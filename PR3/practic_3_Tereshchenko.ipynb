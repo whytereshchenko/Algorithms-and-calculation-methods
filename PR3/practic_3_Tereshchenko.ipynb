{
 "cells": [
  {
   "cell_type": "markdown",
   "id": "bbaea805",
   "metadata": {},
   "source": [
    "### 29.09.22, &copy; [Daniil Tereshchenko](https://www.linkedin.com/in/daniil-tereshchenko/), 2022"
   ]
  },
  {
   "cell_type": "markdown",
   "id": "a7843195",
   "metadata": {},
   "source": [
    "# Практичне заняття №3. Алгоритми сортування та їх складність"
   ]
  },
  {
   "cell_type": "markdown",
   "id": "b4857d46",
   "metadata": {},
   "source": [
    "## Сортування вибором"
   ]
  },
  {
   "cell_type": "markdown",
   "id": "500050ba",
   "metadata": {},
   "source": [
    "### Скласти алгоритм (Python)"
   ]
  },
  {
   "cell_type": "code",
   "execution_count": null,
   "id": "6742af01",
   "metadata": {},
   "outputs": [],
   "source": [
    "def selectionSort(array): \n",
    "    n = len(array)                                                    # | c1 | 1\n",
    "    for ind in range(n):                                              # | c2 | n\n",
    "        min_index = ind                                               # | c3 | n - 1\n",
    " \n",
    "        for j in range(ind + 1, n):                                   # | c4 | sum(ind = 0 -> n) t_j\n",
    "            if array[j] < array[min_index]:                           # | c5 | sum(ind = 0 -> n) t_j - 1\n",
    "                min_index = j                                         # | c6 | sum(ind = 0 -> n) t_j - 1\n",
    "        array[ind], array[min_index] = array[min_index], array[ind]   # | c7 | n - 1\n",
    " \n",
    "    "
   ]
  },
  {
   "cell_type": "markdown",
   "id": "8d5be4b6",
   "metadata": {},
   "source": [
    "### Оцінити складність у найгіршому та найкращому випадку"
   ]
  },
  {
   "cell_type": "markdown",
   "id": "da5bdab2",
   "metadata": {},
   "source": [
    "#### Найгірший випадок (масив відсортовано по спаданню)"
   ]
  },
  {
   "cell_type": "markdown",
   "id": "fb6f9db3",
   "metadata": {},
   "source": [
    "$$\n",
    "T(n) = c_{1} + c_{2}n + c_{3}(n-1) + c_{4}\\sum_{n=0}^{n}t_{j} +  c_{5}\\sum_{n=0}^{n}t_{j}-1 +  c_{6}\\sum_{n=0}^{n}t_{j}-1 + c_{7}(n-1)\n",
    "$$\n",
    "\n",
    "$$\n",
    "\\sum_{n=0}^{n}t_{j} = \\frac{n(n+1)}{2}\n",
    "$$\n",
    "\n",
    "\n",
    "$$\n",
    "\\sum_{n=0}^{n}t_{j}-1 = \\frac{n(n+1)}{2}-(n-1) = \\frac{n(n-1)}{2}+1\n",
    "$$\n",
    "\n",
    "$$\n",
    "T(n) = c_{1} + c_{2}n + c_{3}(n-1) + c_{4}\\frac{n^2+n}{2} +  c_{5}\\frac{n^2-n}{2}+1 +  c_{6}\\frac{n^2-n}{2}+1 + c_{7}(n-1)\n",
    "$$"
   ]
  },
  {
   "cell_type": "markdown",
   "id": "699f3ec9",
   "metadata": {},
   "source": [
    "$$\n",
    "T(n) = n^2(\\frac{c_{4}}{2}+\\frac{c_{5}}{2}+\\frac{c_{6}}{2}) + n(c_{2} + c_{3} + c_{4} - c_{5} - c_{6} + c_{7}) + (c_{1} - c_{3} + c_{5} + c_{6} - c_{7})\n",
    "$$\n",
    "\n",
    "$$\n",
    "T(n) = O(n^2)\n",
    "$$"
   ]
  },
  {
   "cell_type": "markdown",
   "id": "0a84ed4e",
   "metadata": {},
   "source": [
    "#### Найкращий випадок (масив відсортовано по зростанню)"
   ]
  },
  {
   "cell_type": "markdown",
   "id": "060d338e",
   "metadata": {},
   "source": [
    "$$\n",
    "T(n) = c_{1} + c_{2}n + c_{3}(n-1) + c_{4}\\sum_{n=0}^{n}t_{j} +  c_{5}\\sum_{n=0}^{n}t_{j}-1\n",
    "$$\n",
    "\n",
    "$$\n",
    "\\sum_{n=0}^{n}t_{j} = \\frac{n(n+1)}{2}\n",
    "$$\n",
    "\n",
    "\n",
    "$$\n",
    "\\sum_{n=0}^{n}t_{j}-1 = \\frac{n(n+1)}{2}-(n-1) = \\frac{n(n-1)}{2}+1\n",
    "$$\n",
    "\n",
    "$$\n",
    "T(n) = c_{1} + c_{2}n + c_{3}(n-1) + c_{4}\\frac{n^2+n}{2} +  c_{5}\\frac{n^2-n}{2}+1\n",
    "$$"
   ]
  },
  {
   "cell_type": "markdown",
   "id": "abf8e1a7",
   "metadata": {},
   "source": [
    "$$\n",
    "T(n) = n^2(\\frac{c_{4}}{2}+\\frac{c_{5}}{2}) + n(c_{2} + c_{3} + c_{4} - c_{5}) + (c_{1} - c_{3} + c_{5})\n",
    "$$\n",
    "\n",
    "$$\n",
    "T(n) = O(n^2)\n",
    "$$"
   ]
  },
  {
   "cell_type": "markdown",
   "id": "c516ca81",
   "metadata": {},
   "source": [
    "### Оцінити складність процедури переставляння\n"
   ]
  },
  {
   "cell_type": "code",
   "execution_count": 9,
   "id": "85b802fb",
   "metadata": {},
   "outputs": [],
   "source": [
    "from itertools import permutations"
   ]
  },
  {
   "cell_type": "code",
   "execution_count": 12,
   "id": "05fa75d8",
   "metadata": {},
   "outputs": [],
   "source": [
    "perm = permutations([1,2,3,4])"
   ]
  },
  {
   "cell_type": "code",
   "execution_count": 13,
   "id": "ec301ae6",
   "metadata": {
    "scrolled": true
   },
   "outputs": [
    {
     "name": "stdout",
     "output_type": "stream",
     "text": [
      "(1, 2, 3, 4)\n",
      "(1, 2, 4, 3)\n",
      "(1, 3, 2, 4)\n",
      "(1, 3, 4, 2)\n",
      "(1, 4, 2, 3)\n",
      "(1, 4, 3, 2)\n",
      "(2, 1, 3, 4)\n",
      "(2, 1, 4, 3)\n",
      "(2, 3, 1, 4)\n",
      "(2, 3, 4, 1)\n",
      "(2, 4, 1, 3)\n",
      "(2, 4, 3, 1)\n",
      "(3, 1, 2, 4)\n",
      "(3, 1, 4, 2)\n",
      "(3, 2, 1, 4)\n",
      "(3, 2, 4, 1)\n",
      "(3, 4, 1, 2)\n",
      "(3, 4, 2, 1)\n",
      "(4, 1, 2, 3)\n",
      "(4, 1, 3, 2)\n",
      "(4, 2, 1, 3)\n",
      "(4, 2, 3, 1)\n",
      "(4, 3, 1, 2)\n",
      "(4, 3, 2, 1)\n"
     ]
    }
   ],
   "source": [
    "for i in list(perm):\n",
    "    print(i)"
   ]
  },
  {
   "cell_type": "markdown",
   "id": "a38e480f",
   "metadata": {},
   "source": [
    "Якщо у нас 1 елемент, перестановок буде 1, якщо 2, то 2, якщо 3, то 6. Бачимо залежність, а саме $n$ елементів мають $n!$ перестановок. "
   ]
  },
  {
   "cell_type": "markdown",
   "id": "f2d94f7c",
   "metadata": {},
   "source": [
    "$$\n",
    "T(n) = O(n!)\n",
    "$$"
   ]
  },
  {
   "cell_type": "markdown",
   "id": "dde886fd",
   "metadata": {},
   "source": [
    "## Швидке сортування"
   ]
  },
  {
   "cell_type": "markdown",
   "id": "786c344e",
   "metadata": {},
   "source": [
    "![Quick Sort](images/quick_sort.gif)"
   ]
  },
  {
   "cell_type": "code",
   "execution_count": 10,
   "id": "b6414dbd",
   "metadata": {},
   "outputs": [],
   "source": [
    "def partition(array, low, high):\n",
    "    pivot = array[high]                                  \n",
    "    i = low - 1                                             \n",
    "    for j in range(low, high):                              \n",
    "        if array[j] <= pivot:                               \n",
    "            i = i + 1                                          \n",
    "            (array[i], array[j]) = (array[j], array[i])        \n",
    "    (array[i + 1], array[high]) = (array[high], array[i + 1])  \n",
    "    return i + 1                                               "
   ]
  },
  {
   "cell_type": "code",
   "execution_count": 6,
   "id": "b9e79af5",
   "metadata": {},
   "outputs": [],
   "source": [
    "def quickSort(array, low, high):\n",
    "    if low < high:\n",
    "        pi = partition(array, low, high)\n",
    "        quickSort(array, low, pi - 1)\n",
    "        quickSort(array, pi + 1, high)"
   ]
  },
  {
   "cell_type": "code",
   "execution_count": 9,
   "id": "5ef49769",
   "metadata": {},
   "outputs": [
    {
     "name": "stdout",
     "output_type": "stream",
     "text": [
      "[0, 1, 2, 6, 7, 8, 9]\n"
     ]
    }
   ],
   "source": [
    "data = [8, 7, 2, 1, 0, 9, 6]\n",
    "size = len(data)-1\n",
    "\n",
    "quickSort(data, 0, size)\n",
    "\n",
    "print(data)"
   ]
  },
  {
   "cell_type": "markdown",
   "id": "22662cae",
   "metadata": {},
   "source": [
    "$\\begin{equation*}\n",
    "T_n = \n",
    "\\begin{cases}\n",
    "O(n), &\\text{}\\\\\n",
    "T(n-1)+T(0)+O(n)=T(n-1)+O(n), &\\text{}\\\\\n",
    "\\end{cases}\n",
    "\\end{equation*}$"
   ]
  },
  {
   "cell_type": "markdown",
   "id": "18a1846e",
   "metadata": {},
   "source": [
    "$T(n)=O(𝑛^2)$ - найгірший випадок"
   ]
  },
  {
   "cell_type": "markdown",
   "id": "0b3fae03",
   "metadata": {},
   "source": [
    "В найкращому випадку процедура ділить задачу на дві підзадачі, розмір кожної не перевищує n/2. Час роботи описується нерівністю:"
   ]
  },
  {
   "cell_type": "markdown",
   "id": "4a225811",
   "metadata": {},
   "source": [
    "\n",
    "$T(n)≤2T(\\frac{n}{2})+O(𝑛)$\n"
   ]
  },
  {
   "cell_type": "markdown",
   "id": "086fc1dc",
   "metadata": {},
   "source": [
    "$T(n)=O(nlogn)$ - найкращій випадок"
   ]
  },
  {
   "cell_type": "markdown",
   "id": "7cdf44e8",
   "metadata": {},
   "source": [
    "## Порівняльний аналіз алгоритмів сортування (Quick sort vs Selection sort)\n"
   ]
  },
  {
   "cell_type": "markdown",
   "id": "7033b7a4",
   "metadata": {},
   "source": [
    "Selection sort працює зі складністю $O(n^2)$ завжди"
   ]
  },
  {
   "cell_type": "markdown",
   "id": "85ae9f5f",
   "metadata": {},
   "source": [
    "Quick sort  працює зі складністю $O(nlogn)$ в найкращому випадку, а в найгіршому за $O(n^2)$\n"
   ]
  },
  {
   "cell_type": "markdown",
   "id": "e7dc59c7",
   "metadata": {},
   "source": [
    "## Нижня межа часу сортування і як її здолати "
   ]
  },
  {
   "cell_type": "markdown",
   "id": "08ee760e",
   "metadata": {},
   "source": [
    "Нижня межа часу сортування це час роботи при найкращому випадку. Здолати нижню межу часу сортування неможливо так як вхідні дані вже оптимізовані і алгоритм вже працює за мінімальний час."
   ]
  }
 ],
 "metadata": {
  "kernelspec": {
   "display_name": "Python 3 (ipykernel)",
   "language": "python",
   "name": "python3"
  },
  "language_info": {
   "codemirror_mode": {
    "name": "ipython",
    "version": 3
   },
   "file_extension": ".py",
   "mimetype": "text/x-python",
   "name": "python",
   "nbconvert_exporter": "python",
   "pygments_lexer": "ipython3",
   "version": "3.9.12"
  }
 },
 "nbformat": 4,
 "nbformat_minor": 5
}
