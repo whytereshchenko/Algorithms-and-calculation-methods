{
 "cells": [
  {
   "cell_type": "markdown",
   "id": "1c15b496",
   "metadata": {},
   "source": [
    "#### 29.09.22, &copy; [Daniil Tereshchenko](https://www.linkedin.com/in/daniil-tereshchenko/), 2022"
   ]
  },
  {
   "cell_type": "markdown",
   "id": "decc5ab2",
   "metadata": {},
   "source": [
    "# Лабораторна робота №5. Структури даних стек і черга. (short version)"
   ]
  },
  {
   "cell_type": "markdown",
   "id": "028b242f",
   "metadata": {},
   "source": [
    "### Мета. _Засвоїти основні функції та алгоритми роботи із стеком та чергою засобами Python._ "
   ]
  },
  {
   "cell_type": "markdown",
   "id": "8b442913",
   "metadata": {},
   "source": [
    "### Завдання на лабораторну роботу."
   ]
  },
  {
   "cell_type": "markdown",
   "id": "5b809284",
   "metadata": {},
   "source": [
    "1. Створити Notebook-документ за допомогою Jupyter Notebook. (Див. [тут](https://devpractice.ru/python-lesson-1-install/), [тут](https://devpractice.ru/python-lesson-6-work-in-jupyter-notebook/) і [тут](https://jupyter-notebook.readthedocs.io/en/stable/notebook.html)) і  реалізувати контрольні приклади, що розглядаються у даній роботі та виконати завдання, що винесено на самостійну роботу.\n",
    "\n",
    "1. Дати відповіді на контрольні запитання.\n",
    "\n",
    "1. Робочий документ оформити у вигляді Notebook-документу (файл __.ipynb__).\n",
    "\n",
    "1. Скомпілювати звіт у форматі __.html__. Для цього необхідно завантажити термінал і у командному рядку запустити наступну команду:\n",
    "\n",
    "`jupyter nbconvert lab_3_StudentLasName.ipynb --to html`\n",
    "\n",
    "1. Представити звіт у вигляді архіву. Проект має складатися мінімум з двох файлів: `lab_3_StudentLasName.ipynb` та `lab_3_StudentLasName.html`"
   ]
  },
  {
   "cell_type": "markdown",
   "id": "a4761320",
   "metadata": {},
   "source": [
    "### Стек"
   ]
  },
  {
   "cell_type": "markdown",
   "id": "13393a20",
   "metadata": {},
   "source": [
    "[Стек](https://proglib.io/p/data-structures/) - це базова структура даних, в якій ми можемо тільки вставляти або видаляти елементи на початку стека. Він нагадує стопку книг. Якщо ми хочемо дістати книгу з середини стека, ми спочатку маємо взяти книги, що лежать зверху.\n",
    "Стек організовано за принципом __LIFO (Last In First Out)__ - це означає, що останній елемент, який доданий в стек, - це перший елемент, який з нього виходить.\n",
    "\n",
    "![](image/stack.png)\n",
    "\n",
    "Рис. 1. Принцип організації стеку"
   ]
  },
  {
   "cell_type": "markdown",
   "id": "acccfc6e",
   "metadata": {},
   "source": [
    "### Операції зі стеком"
   ]
  },
  {
   "cell_type": "markdown",
   "id": "2f994305",
   "metadata": {},
   "source": [
    "Існує [три основні операції](https://proglib.io/p/data-structures/), які можуть виконуватися в стеках: вставка елемента в стек (push), видалення елемента зі стека (pop) і відображення вмісту стека (pip).  \n",
    "\n",
    "У Python роботу зі стеком [можна реалізувати](https://codereview.stackexchange.com/questions/82802/stack-implementation-in-python) за допомогою списку наступного набору методів для роботи зі стеком:\n",
    "\n",
    "1. **Stack()** - створює новий пустий стек.\n",
    "   Параметри не потрібні, повертає пустий стек.\n",
    "2. **push(item)** - додає новий елемент на вершину стека. \n",
    "   В якості параметра виступає елемент; функція нічого не повертає.\n",
    "3. **pop()** - видаляє верхній елемент зі стека. \n",
    "   Параметри не потребуються, функція повертає елемент. Стек змінюється.\n",
    "4. **peek()** - повертає верхній елемент стеку, але не видаляє його. \n",
    "   Параметри не потребуються, стек не модифікується.\n",
    "5. **isEmpty()** - перевіряє стек на пустоту. \n",
    "   Параметри не потребуються, повертає бульове значення.\n",
    "6. **size()** - повертає кількість елементів у стеку. \n",
    "   Параметри не потребуються, тип результата - ціле число."
   ]
  },
  {
   "cell_type": "markdown",
   "id": "0fea6f27",
   "metadata": {},
   "source": [
    "### [Реалізація стеку на Python](https://codereview.stackexchange.com/questions/82802/stack-implementation-in-python)"
   ]
  },
  {
   "cell_type": "code",
   "execution_count": 61,
   "id": "d5b1abeb",
   "metadata": {},
   "outputs": [],
   "source": [
    "from dataclasses import dataclass, field"
   ]
  },
  {
   "cell_type": "code",
   "execution_count": 1,
   "id": "8d9551f8",
   "metadata": {},
   "outputs": [],
   "source": [
    "# У стилі ООП\n",
    "class Stack:\n",
    "     def __init__(self):\n",
    "         self.items = []\n",
    "\n",
    "     def isEmpty(self):\n",
    "         return self.items == []\n",
    "\n",
    "     def push(self, item):\n",
    "         self.items.append(item)\n",
    "\n",
    "     def pop(self):\n",
    "         return self.items.pop()\n",
    "\n",
    "     def peek(self):\n",
    "         return self.items[-1]\n",
    "\n",
    "     def size(self):\n",
    "         return len(self.items)"
   ]
  },
  {
   "cell_type": "code",
   "execution_count": 2,
   "id": "df5e5049",
   "metadata": {},
   "outputs": [
    {
     "name": "stdout",
     "output_type": "stream",
     "text": [
      "true\n"
     ]
    }
   ],
   "source": [
    "s = Stack()\n",
    "s.push('hello')\n",
    "s.push('true')\n",
    "print(s.pop())"
   ]
  },
  {
   "cell_type": "code",
   "execution_count": 3,
   "id": "c3a7e6aa",
   "metadata": {},
   "outputs": [
    {
     "name": "stdout",
     "output_type": "stream",
     "text": [
      "hello\n"
     ]
    }
   ],
   "source": [
    "print(s.pop())"
   ]
  },
  {
   "cell_type": "markdown",
   "id": "045ab894",
   "metadata": {},
   "source": [
    "__Завдання на самостійну роботу:__\n",
    "\n",
    "* Написати функцію `pop_n()`, що видаляє елементи стеку з його початку до номеру `n` включно.\n",
    "* Оцінити асисптотичну складність (в середньому і в найгіршому випадку) процедур `search`, `insert` і `delete` роботи зі стеком."
   ]
  },
  {
   "cell_type": "markdown",
   "id": "8a0715b2",
   "metadata": {},
   "source": [
    "Написати функцію pop_n(), що видаляє елементи стеку з його початку до номеру n включно."
   ]
  },
  {
   "cell_type": "code",
   "execution_count": 116,
   "id": "be672972",
   "metadata": {},
   "outputs": [],
   "source": [
    "s = Stack()\n",
    "for j in range(1, 101):\n",
    "    s.push(j)"
   ]
  },
  {
   "cell_type": "code",
   "execution_count": 117,
   "id": "435e6e0e",
   "metadata": {},
   "outputs": [
    {
     "data": {
      "text/plain": [
       "100"
      ]
     },
     "execution_count": 117,
     "metadata": {},
     "output_type": "execute_result"
    }
   ],
   "source": [
    "s.size()"
   ]
  },
  {
   "cell_type": "code",
   "execution_count": 118,
   "id": "fe18e4e4",
   "metadata": {},
   "outputs": [],
   "source": [
    "def pop_n(s, n):\n",
    "    for i in range(0,n):\n",
    "        print(s.pop())\n",
    "        "
   ]
  },
  {
   "cell_type": "code",
   "execution_count": 119,
   "id": "87936bcb",
   "metadata": {},
   "outputs": [],
   "source": [
    "n = 5"
   ]
  },
  {
   "cell_type": "code",
   "execution_count": 120,
   "id": "5ecffbb1",
   "metadata": {},
   "outputs": [
    {
     "name": "stdout",
     "output_type": "stream",
     "text": [
      "100\n",
      "99\n",
      "98\n",
      "97\n",
      "96\n"
     ]
    }
   ],
   "source": [
    "pop_n(s,n)"
   ]
  },
  {
   "cell_type": "markdown",
   "id": "f30d3ebb",
   "metadata": {},
   "source": [
    "Оцінити асимптотичну складність (в середньому і в найгіршому випадку) процедур `search`, `insert` і `delete` роботи зі стеком."
   ]
  },
  {
   "cell_type": "markdown",
   "id": "70d38dbc",
   "metadata": {},
   "source": [
    "#### Найгірший випадок"
   ]
  },
  {
   "cell_type": "markdown",
   "id": "e615291d",
   "metadata": {},
   "source": [
    "Search"
   ]
  },
  {
   "cell_type": "markdown",
   "id": "a8c09295",
   "metadata": {},
   "source": [
    "Найгірший випадок для процедури `Search`, коли шуканий елемент знаходиться у кінці стеку"
   ]
  },
  {
   "cell_type": "markdown",
   "id": "34c163df",
   "metadata": {},
   "source": [
    "$$\n",
    "T_{worst}(n) = n \n",
    "$$\n",
    "\n",
    "$$\n",
    "T_{worst}(n) = O(n)\n",
    "$$"
   ]
  },
  {
   "cell_type": "markdown",
   "id": "beac8af1",
   "metadata": {},
   "source": [
    "Insert"
   ]
  },
  {
   "cell_type": "markdown",
   "id": "21431070",
   "metadata": {},
   "source": [
    "`Insert` завжди працює однаково, вставляючи елемент на початок стеку "
   ]
  },
  {
   "cell_type": "markdown",
   "id": "54c81ceb",
   "metadata": {},
   "source": [
    "$$\n",
    "T_{worst}(n) = T_{average}(n) = 1 \n",
    "$$\n",
    "\n",
    "$$\n",
    "T_{worst}(n) = T_{average}(n) = O(1)\n",
    "$$"
   ]
  },
  {
   "cell_type": "markdown",
   "id": "334986fe",
   "metadata": {},
   "source": [
    "Delete"
   ]
  },
  {
   "cell_type": "markdown",
   "id": "8e24a478",
   "metadata": {},
   "source": [
    "`Delete` завжди працює однаково, вставляючи елемент на початок стеку "
   ]
  },
  {
   "cell_type": "markdown",
   "id": "c2041ffe",
   "metadata": {},
   "source": [
    "$$\n",
    "T_{worst}(n) = T_{average}(n) = 1 \n",
    "$$\n",
    "\n",
    "$$\n",
    "T_{worst}(n) = T_{average}(n) = O(1)\n",
    "$$"
   ]
  },
  {
   "cell_type": "markdown",
   "id": "c9fe29f3",
   "metadata": {},
   "source": [
    "#### В середньому"
   ]
  },
  {
   "cell_type": "markdown",
   "id": "45ce4f04",
   "metadata": {},
   "source": [
    "Search"
   ]
  },
  {
   "cell_type": "markdown",
   "id": "78d07f52",
   "metadata": {},
   "source": [
    "В середньому `Search`"
   ]
  },
  {
   "cell_type": "markdown",
   "id": "e7a1515b",
   "metadata": {},
   "source": [
    "$$\n",
    "T_{average}(n) = \\sum_{i=0}^{n-1}\\frac{\\theta (i)}{(n)} = \\frac{\\theta (\\frac{(n)*(n+1)}{2})}{(n)} = \\theta (n)\n",
    "$$"
   ]
  },
  {
   "cell_type": "markdown",
   "id": "5b022b41",
   "metadata": {},
   "source": [
    "### Черга"
   ]
  },
  {
   "cell_type": "markdown",
   "id": "b7c39905",
   "metadata": {},
   "source": [
    "[__Черга__](https://github.com/yorko/python_intro) - це впорядкована колекція елементів, в якій додавання нових елементів відбувається з одного кінця, що називається \"хвостом черги\", а видалення їх - з іншого (\"голова черги\"). Як тільки елемент додається в кінець черги, він починає свій шлях до її початку, чекаючи видалення попередніх.\n",
    "\n",
    "![](image/queue.png)\n",
    "Рис. 2. Принцип організації черги"
   ]
  },
  {
   "cell_type": "markdown",
   "id": "c3691b5a",
   "metadata": {},
   "source": [
    "Чергу організовано за приниципом __FIFO (First In First Out)__. Це означає, що після додавання нового елемента всі елементи, які були додані до цього, повинні бути видалені до того, як новий елемент буде видалено.\n",
    "У черзі є тільки дві основні операції: enqueue і dequeue. Enqueue означає вставити елемент в кінець черги, а dequeue означає видалення переднього елемента."
   ]
  },
  {
   "cell_type": "markdown",
   "id": "65e29691",
   "metadata": {},
   "source": [
    "### Операції з чергою"
   ]
  },
  {
   "cell_type": "markdown",
   "id": "1130c5e2",
   "metadata": {},
   "source": [
    "1. **Queue()** Створює нову пусту чергу. Не потребує параметрів, повертає пусту чергу.\n",
    "2. **enqueue(item)** добавляє новий елемент в кінець черги. Потребує елемент в якості параметра, нічого не повертає.\n",
    "3. **dequeue()** видаляє з черги перший елемент. Не потребує параметрів, повертає елемент. Черга не змінюється.\n",
    "4. **isEmpty()** перевіряє чергу на пустоту. Не потребує параметрів, повертає булєве значення.\n",
    "5. **size()** повертає кількість елементів в черзі (ціле число). Не потребує параметрів.\n",
    "\n",
    "\n",
    "\n",
    "[](https://docs.python.org/2/library/queue.html)"
   ]
  },
  {
   "cell_type": "code",
   "execution_count": 5,
   "id": "2aa851ab",
   "metadata": {},
   "outputs": [],
   "source": [
    "class Queue:\n",
    "    def __init__(self):\n",
    "        self.items = []\n",
    "\n",
    "    def isEmpty(self):\n",
    "        return self.items == []\n",
    "\n",
    "    def enqueue(self, item):\n",
    "        self.items.insert(0,item)\n",
    "\n",
    "    def dequeue(self):\n",
    "        return self.items.pop()\n",
    "\n",
    "    def size(self):\n",
    "        return len(self.items)"
   ]
  },
  {
   "cell_type": "code",
   "execution_count": 15,
   "id": "22c1f541",
   "metadata": {},
   "outputs": [
    {
     "data": {
      "text/plain": [
       "1"
      ]
     },
     "execution_count": 15,
     "metadata": {},
     "output_type": "execute_result"
    }
   ],
   "source": [
    "q = Queue()\n",
    "q.isEmpty()\n",
    "q.enqueue(2)\n",
    "q.isEmpty()\n",
    "q.size()"
   ]
  },
  {
   "cell_type": "code",
   "execution_count": 7,
   "id": "a59e7d31",
   "metadata": {},
   "outputs": [
    {
     "name": "stdout",
     "output_type": "stream",
     "text": [
      "[2]\n"
     ]
    }
   ],
   "source": [
    "print(q.items)"
   ]
  },
  {
   "cell_type": "markdown",
   "id": "05cd9cea",
   "metadata": {},
   "source": [
    "__Завдання на самостійну роботу__:\n",
    "\n",
    "* Розглянути самостійно [Приклад 3 офіційної документації модулю Queue.](http://john16blog.blogspot.com/2012/05/python-queue.html)\n",
    "* Написати функцію `print_n()`, що друкує елементи черги з його початку до номеру `n` включно.\n",
    "* Оцінити асимптотичну складність (в середньому і в найгіршому випадку) процедур `search`, `insert` і `delete` роботи з чергою."
   ]
  },
  {
   "cell_type": "markdown",
   "id": "06e9795f",
   "metadata": {},
   "source": [
    "Написати функцію `print_n()`, що друкує елементи черги з його початку до номеру `n` включно."
   ]
  },
  {
   "cell_type": "code",
   "execution_count": 108,
   "id": "88af0a33",
   "metadata": {},
   "outputs": [],
   "source": [
    "def print_n(q,n):\n",
    "    for i in range(0,n):\n",
    "        print(q.dequeue())"
   ]
  },
  {
   "cell_type": "code",
   "execution_count": 109,
   "id": "a07b968f",
   "metadata": {},
   "outputs": [],
   "source": [
    "q = Queue()\n",
    "for j in range(1, 101):\n",
    "    q.enqueue(j)"
   ]
  },
  {
   "cell_type": "code",
   "execution_count": 110,
   "id": "5d308d5e",
   "metadata": {},
   "outputs": [
    {
     "data": {
      "text/plain": [
       "100"
      ]
     },
     "execution_count": 110,
     "metadata": {},
     "output_type": "execute_result"
    }
   ],
   "source": [
    "q.size()"
   ]
  },
  {
   "cell_type": "code",
   "execution_count": 111,
   "id": "ea485389",
   "metadata": {},
   "outputs": [],
   "source": [
    "n = 5"
   ]
  },
  {
   "cell_type": "code",
   "execution_count": 112,
   "id": "97a0faca",
   "metadata": {},
   "outputs": [
    {
     "name": "stdout",
     "output_type": "stream",
     "text": [
      "1\n",
      "2\n",
      "3\n",
      "4\n",
      "5\n"
     ]
    }
   ],
   "source": [
    "print_n(q,n)"
   ]
  },
  {
   "cell_type": "markdown",
   "id": "70c8dac2",
   "metadata": {},
   "source": [
    "Оцінити асисптотичну складність (в середньому і в найгіршому випадку) процедур `search`, `insert` і `delete` роботи з чергою."
   ]
  },
  {
   "cell_type": "markdown",
   "id": "e127e89d",
   "metadata": {},
   "source": [
    "#### Найгірший випадок"
   ]
  },
  {
   "cell_type": "markdown",
   "id": "93631a6f",
   "metadata": {},
   "source": [
    "Search"
   ]
  },
  {
   "cell_type": "markdown",
   "id": "88b165c8",
   "metadata": {},
   "source": [
    "Найгірший випадок для процедури `Search`, коли шуканий елемент знаходиться у кінці черги"
   ]
  },
  {
   "cell_type": "markdown",
   "id": "a5dd0cac",
   "metadata": {},
   "source": [
    "$$\n",
    "T_{worst}(n) = n \n",
    "$$\n",
    "\n",
    "$$\n",
    "T_{worst}(n) = O(n)\n",
    "$$"
   ]
  },
  {
   "cell_type": "markdown",
   "id": "fc035707",
   "metadata": {},
   "source": [
    "Insert"
   ]
  },
  {
   "cell_type": "markdown",
   "id": "50bdb55d",
   "metadata": {},
   "source": [
    "`Insert` завжди працює однаково, вставляючи елемент на кінець черги"
   ]
  },
  {
   "cell_type": "markdown",
   "id": "edb353d5",
   "metadata": {},
   "source": [
    "$$\n",
    "T_{worst}(n) = T_{average}(n) = 1 \n",
    "$$\n",
    "\n",
    "$$\n",
    "T_{worst}(n) = T_{average}(n) = O(1)\n",
    "$$"
   ]
  },
  {
   "cell_type": "markdown",
   "id": "81eade42",
   "metadata": {},
   "source": [
    "Delete"
   ]
  },
  {
   "cell_type": "markdown",
   "id": "347e8a60",
   "metadata": {},
   "source": [
    "Найгірший випадок `Delete`, коли елемент який потрібно видалити знаходиться у кінці черги"
   ]
  },
  {
   "cell_type": "markdown",
   "id": "c75da4ec",
   "metadata": {},
   "source": [
    "$$\n",
    "T_{worst}(n) = T_{average}(n) = 1 \n",
    "$$\n",
    "\n",
    "$$\n",
    "T_{worst}(n) = T_{average}(n) = O(1)\n",
    "$$"
   ]
  },
  {
   "cell_type": "markdown",
   "id": "543a81e8",
   "metadata": {},
   "source": [
    "#### В середньому"
   ]
  },
  {
   "cell_type": "markdown",
   "id": "c52befdc",
   "metadata": {},
   "source": [
    "Search"
   ]
  },
  {
   "cell_type": "markdown",
   "id": "b3ac140b",
   "metadata": {},
   "source": [
    "В середньому `Search`"
   ]
  },
  {
   "cell_type": "markdown",
   "id": "7cd72d82",
   "metadata": {},
   "source": [
    "$$\n",
    "T_{average}(n) = \\sum_{i=0}^{n-1}\\frac{\\theta (i)}{(n)} = \\frac{\\theta (\\frac{(n)*(n+1)}{2})}{(n)} = \\theta (n)\n",
    "$$"
   ]
  },
  {
   "cell_type": "markdown",
   "id": "64b5e61a",
   "metadata": {},
   "source": [
    "### Контрольні запитання."
   ]
  },
  {
   "cell_type": "markdown",
   "id": "d792e146",
   "metadata": {},
   "source": [
    "1. У чому полягає ідея розпараллелювання обчислень і для чого вона використовується?\n",
    "\n",
    "2. Які існують шляхи підвищення обчислювальної швидкості алгоритмів? Який з них є найбільш ефективним?\n",
    "\n",
    "3. Є два алгоритми із часовою складністю $n$ і $nlogn$ відповідно. Нехай одиницею часу буде одна мілісекунда. Який максимальний  розмір задачі може опрацювати комп'ютер, виконуючи відповідно першим та другим алгоритмом за одну секунду?  \n",
    "\n",
    "4. Є два алгоритми із часовою складністю $n$ і $n^2$ відповідно. Нехай одиницею часу буде одна мілісекунда. Який максимальний  розмір задачі може опрацювати комп'ютер, виконуючи відповідно першим та другим алгоритмом за одну секунду? "
   ]
  },
  {
   "cell_type": "markdown",
   "id": "d3441e03",
   "metadata": {},
   "source": [
    "це форма обчислень, в яких кілька дій проводяться одночасно. Ґрунтуються на тому, що великі задачі можна розділити на кілька менших, кожну з яких можна розв'язати незалежно від інших."
   ]
  },
  {
   "cell_type": "markdown",
   "id": "06cc6ede",
   "metadata": {},
   "source": []
  },
  {
   "cell_type": "markdown",
   "id": "8c1c12f4",
   "metadata": {},
   "source": [
    "2. Які існують шляхи підвищення обчислювальної швидкості алгоритмів? Який з них є найбільш ефективним?"
   ]
  },
  {
   "cell_type": "markdown",
   "id": "d8091eed",
   "metadata": {},
   "source": []
  },
  {
   "cell_type": "markdown",
   "id": "3d11161a",
   "metadata": {},
   "source": [
    "3. Є два алгоритми із часовою складністю $n$ і $nlogn$ відповідно. Нехай одиницею часу буде одна мілісекунда. Який максимальний  розмір задачі може опрацювати комп'ютер, виконуючи відповідно першим та другим алгоритмом за одну секунду?  \n"
   ]
  },
  {
   "cell_type": "code",
   "execution_count": 131,
   "id": "a428b51b",
   "metadata": {},
   "outputs": [
    {
     "name": "stdout",
     "output_type": "stream",
     "text": [
      "Максимальний розмір задачі яку можна дати:\n",
      "163\n"
     ]
    }
   ],
   "source": [
    "import math\n",
    "temp = 0\n",
    "for n in range(1, 1000):\n",
    "    temp = n + n*math.log(n)\n",
    "    if temp > 1000:\n",
    "        print(\"Максимальний розмір задачі яку можна дати:\")\n",
    "        print(n-1)\n",
    "        break"
   ]
  },
  {
   "cell_type": "markdown",
   "id": "a497e0e2",
   "metadata": {},
   "source": [
    "4. Є два алгоритми із часовою складністю $n$ і $n^2$ відповідно. Нехай одиницею часу буде одна мілісекунда. Який максимальний  розмір задачі може опрацювати комп'ютер, виконуючи відповідно першим та другим алгоритмом за одну секунду? "
   ]
  },
  {
   "cell_type": "code",
   "execution_count": 129,
   "id": "7adaec53",
   "metadata": {
    "scrolled": true
   },
   "outputs": [
    {
     "name": "stdout",
     "output_type": "stream",
     "text": [
      "Максимальний розмір задачі яку можна дати:\n",
      "31\n"
     ]
    }
   ],
   "source": [
    "temp = 0\n",
    "for n in range(1, 1000):\n",
    "    temp = n + pow(n,2)\n",
    "    if temp > 1000:\n",
    "        print(\"Максимальний розмір задачі яку можна дати:\")\n",
    "        print(n-1)\n",
    "        break"
   ]
  },
  {
   "cell_type": "markdown",
   "id": "ce4217c9",
   "metadata": {},
   "source": [
    "## References"
   ]
  },
  {
   "cell_type": "markdown",
   "id": "2cfa8754",
   "metadata": {},
   "source": [
    "Паралельні обчислення [uk.wikipedia.org](https://uk.wikipedia.org/wiki/%D0%9F%D0%B0%D1%80%D0%B0%D0%BB%D0%B5%D0%BB%D1%8C%D0%BD%D1%96_%D0%BE%D0%B1%D1%87%D0%B8%D1%81%D0%BB%D0%B5%D0%BD%D0%BD%D1%8F)\n"
   ]
  }
 ],
 "metadata": {
  "kernelspec": {
   "display_name": "Python 3 (ipykernel)",
   "language": "python",
   "name": "python3"
  },
  "language_info": {
   "codemirror_mode": {
    "name": "ipython",
    "version": 3
   },
   "file_extension": ".py",
   "mimetype": "text/x-python",
   "name": "python",
   "nbconvert_exporter": "python",
   "pygments_lexer": "ipython3",
   "version": "3.9.12"
  }
 },
 "nbformat": 4,
 "nbformat_minor": 5
}
