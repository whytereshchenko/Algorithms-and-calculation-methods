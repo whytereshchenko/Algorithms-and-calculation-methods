{
 "cells": [
  {
   "cell_type": "markdown",
   "metadata": {},
   "source": [
    "##### Лабораторна робота №5. Структури даних стек і черга. (short version)"
   ]
  },
  {
   "cell_type": "markdown",
   "metadata": {},
   "source": [
    "__04.11.2021__, &copy; [ к.т.н., доц. Сидоренко В. М.](https://www.linkedin.com/in/valeriy-sydorenko-6782279a/), __2021"
   ]
  },
  {
   "cell_type": "markdown",
   "metadata": {},
   "source": [
    "### Мета. _Засвоїти основні функції та алгоритми роботи із стеком та чергою засобами Python._ "
   ]
  },
  {
   "cell_type": "markdown",
   "metadata": {},
   "source": [
    "### Стек"
   ]
  },
  {
   "cell_type": "markdown",
   "metadata": {},
   "source": [
    "[Стек](https://proglib.io/p/data-structures/) - це базова структура даних, в якій ми можемо тільки вставляти або видаляти елементи на початку стека. Він нагадує стопку книг. Якщо ми хочемо дістати книгу з середини стека, ми спочатку маємо взяти книги, що лежать зверху.\n",
    "Стек організовано за принципом __LIFO (Last In First Out)__ - це означає, що останній елемент, який доданий в стек, - це перший елемент, який з нього виходить.\n",
    "\n",
    "![](image/stack.png)\n",
    "\n",
    "Рис. 1. Принцип організації стеку\n",
    "\n"
   ]
  },
  {
   "cell_type": "markdown",
   "metadata": {},
   "source": [
    "### Операції зі стеком"
   ]
  },
  {
   "cell_type": "markdown",
   "metadata": {},
   "source": [
    "Існує [три основні операції](https://proglib.io/p/data-structures/), які можуть виконуватися в стеках: вставка елемента в стек (push), видалення елемента зі стека (pop) і відображення вмісту стека (pip).  \n",
    "\n",
    "У Python роботу зі стеком [можна реалізувати](https://codereview.stackexchange.com/questions/82802/stack-implementation-in-python) за допомогою списку наступного набору методів для роботи зі стеком:\n",
    "\n",
    "1. **Stack()** - створює новий пустий стек.\n",
    "   Параметри не потрібні, повертає пустий стек.\n",
    "2. **push(item)** - додає новий елемент на вершину стека. \n",
    "   В якості параметра виступає елемент; функція нічого не повертає.\n",
    "3. **pop()** - видаляє верхній елемент зі стека. \n",
    "   Параметри не потребуються, функція повертає елемент. Стек змінюється.\n",
    "4. **peek()** - повертає верхній елемент стеку, але не видаляє його. \n",
    "   Параметри не потребуються, стек не модифікується.\n",
    "5. **isEmpty()** - перевіряє стек на пустоту. \n",
    "   Параметри не потребуються, повертає бульове значення.\n",
    "6. **size()** - повертає кількість елементів у стеку. \n",
    "   Параметри не потребуються, тип результата - ціле число."
   ]
  },
  {
   "cell_type": "markdown",
   "metadata": {},
   "source": [
    "### [Реалізація стеку на Python](https://codereview.stackexchange.com/questions/82802/stack-implementation-in-python)"
   ]
  },
  {
   "cell_type": "code",
   "execution_count": 1,
   "metadata": {},
   "outputs": [],
   "source": [
    "# У стилі ООП\n",
    "class Stack:\n",
    "     def __init__(self):\n",
    "         self.items = []\n",
    "\n",
    "     def isEmpty(self):\n",
    "         return self.items == []\n",
    "\n",
    "     def push(self, item):\n",
    "         self.items.append(item)\n",
    "\n",
    "     def pop(self):\n",
    "         return self.items.pop()\n",
    "\n",
    "     def peek(self):\n",
    "         return self.items[-1]\n",
    "\n",
    "     def size(self):\n",
    "         return len(self.items)"
   ]
  },
  {
   "cell_type": "code",
   "execution_count": 2,
   "metadata": {},
   "outputs": [
    {
     "name": "stdout",
     "output_type": "stream",
     "text": [
      "true\n"
     ]
    }
   ],
   "source": [
    "s = Stack()\n",
    "s.push('hello')\n",
    "s.push('true')\n",
    "print(s.pop())"
   ]
  },
  {
   "cell_type": "code",
   "execution_count": 3,
   "metadata": {},
   "outputs": [
    {
     "name": "stdout",
     "output_type": "stream",
     "text": [
      "hello\n"
     ]
    }
   ],
   "source": [
    "print(s.pop())"
   ]
  },
  {
   "cell_type": "markdown",
   "metadata": {},
   "source": [
    "__Завдання на самостійну роботу:__\n",
    "\n",
    "* Написати функцію `pop_n()`, що видаляє елементи стеку з його початку до номеру `n` включно.\n",
    "* Оцінити асисптотичну складність (в середньому і в найгіршому випадку) процедур `search`, `insert` і `delete` роботи зі стеком."
   ]
  },
  {
   "cell_type": "markdown",
   "metadata": {},
   "source": [
    "\n",
    "### Черга"
   ]
  },
  {
   "cell_type": "markdown",
   "metadata": {},
   "source": [
    "[__Черга__](https://github.com/yorko/python_intro) - це впорядкована колекція елементів, в якій додавання нових елементів відбувається з одного кінця, що називається \"хвостом черги\", а видалення їх - з іншого (\"голова черги\"). Як тільки елемент додається в кінець черги, він починає свій шлях до її початку, чекаючи видалення попередніх.\n",
    "\n",
    "![](image/queue.png)\n",
    "Рис. 2. Принцип організації черги"
   ]
  },
  {
   "cell_type": "markdown",
   "metadata": {},
   "source": [
    "Чергу організовано за приниципом __FIFO (First In First Out)__. Це означає, що після додавання нового елемента всі елементи, які були додані до цього, повинні бути видалені до того, як новий елемент буде видалено.\n",
    "У черзі є тільки дві основні операції: enqueue і dequeue. Enqueue означає вставити елемент в кінець черги, а dequeue означає видалення переднього елемента."
   ]
  },
  {
   "cell_type": "markdown",
   "metadata": {},
   "source": [
    "### Операції з чергою"
   ]
  },
  {
   "cell_type": "markdown",
   "metadata": {},
   "source": [
    "1. **Queue()** Створює нову пусту чергу. Не потребує параметрів, повертає пусту чергу.\n",
    "2. **enqueue(item)** добавляє новий елемент в кінець черги. Потребує елемент в якості параметра, нічого не повертає.\n",
    "3. **dequeue()** видаляє з черги перший елемент. Не потребує параметрів, повертає елемент. Черга не змінюється.\n",
    "4. **isEmpty()** перевіряє чергу на пустоту. Не потребує параметрів, повертає булєве значення.\n",
    "5. **size()** повертає кількість елементів в черзі (ціле число). Не потребує параметрів.\n",
    "\n",
    "\n",
    "\n",
    "[](https://docs.python.org/2/library/queue.html)"
   ]
  },
  {
   "cell_type": "code",
   "execution_count": 4,
   "metadata": {},
   "outputs": [],
   "source": [
    "class Queue:\n",
    "    def __init__(self):\n",
    "        self.items = []\n",
    "\n",
    "    def isEmpty(self):\n",
    "        return self.items == []\n",
    "\n",
    "    def enqueue(self, item):\n",
    "        self.items.insert(0,item)\n",
    "\n",
    "    def dequeue(self):\n",
    "        return self.items.pop()\n",
    "\n",
    "    def size(self):\n",
    "        return len(self.items)"
   ]
  },
  {
   "cell_type": "code",
   "execution_count": 5,
   "metadata": {},
   "outputs": [
    {
     "data": {
      "text/plain": [
       "1"
      ]
     },
     "execution_count": 5,
     "metadata": {},
     "output_type": "execute_result"
    }
   ],
   "source": [
    "q = Queue()\n",
    "q.isEmpty()\n",
    "q.enqueue(2)\n",
    "q.isEmpty()\n",
    "q.size()"
   ]
  },
  {
   "cell_type": "code",
   "execution_count": 6,
   "metadata": {},
   "outputs": [
    {
     "name": "stdout",
     "output_type": "stream",
     "text": [
      "[2]\n"
     ]
    }
   ],
   "source": [
    "print(q.items)"
   ]
  },
  {
   "cell_type": "markdown",
   "metadata": {},
   "source": [
    "__Завдання на самостійну роботу__:\n",
    "\n",
    "* Розглянути самостійно [Приклад 3 офіційної документації модулю Queue.](http://john16blog.blogspot.com/2012/05/python-queue.html)\n",
    "* Написати функцію `print_n()`, що друкує елементи черги з його початку до номеру `n` включно.\n",
    "* Оцінити асисптотичну складність (в середньому і в найгіршому випадку) процедур `search`, `insert` і `delete` роботи з чергою."
   ]
  },
  {
   "cell_type": "markdown",
   "metadata": {},
   "source": [
    "### Завдання на лабораторну роботу."
   ]
  },
  {
   "cell_type": "markdown",
   "metadata": {},
   "source": [
    "1. Створити Notebook-документ за допомогою Jupyter Notebook. (Див. [тут](https://devpractice.ru/python-lesson-1-install/), [тут](https://devpractice.ru/python-lesson-6-work-in-jupyter-notebook/) і [тут](https://jupyter-notebook.readthedocs.io/en/stable/notebook.html)) і  реалізувати контрольні приклади, що розглядаються у даній роботі та виконати завдання, що винесено на самостійну роботу.\n",
    "\n",
    "1. Дати відповіді на контрольні запитання.\n",
    "\n",
    "1. Робочий документ оформити у вигляді Notebook-документу (файл __.ipynb__).\n",
    "\n",
    "1. Скомпілювати звіт у форматі __.html__. Для цього необхідно завантажити термінал і у командному рядку запустити наступну команду:\n",
    "\n",
    "`jupyter nbconvert lab_3_StudentLasName.ipynb --to html`\n",
    "\n",
    "1. Представити звіт у вигляді архіву. Проект має складатися мінімум з двох файлів: `lab_3_StudentLasName.ipynb` та `lab_3_StudentLasName.html`"
   ]
  },
  {
   "cell_type": "markdown",
   "metadata": {},
   "source": [
    "### Контрольні запитання."
   ]
  },
  {
   "cell_type": "markdown",
   "metadata": {},
   "source": [
    "1. У чому полягає ідея розпараллелювання обчислень і для чого вона використовується?\n",
    "\n",
    "1. Які існують шляхи підвищення обчислювальної швидкості алгоритмів? Який з них є найбільш ефективним?\n",
    "\n",
    "1. Є два алгоритми із часовою складністю $n$ і $nlogn$ відповідно. Нехай одиницею часу буде одна мілісекунда. Який максимальний  розмір задачі може опрацювати комп'ютер, виконуючи відповідно першим та другим алгоритмом за одну секунду?  \n",
    "\n",
    "1. Є два алгоритми із часовою складністю $n$ і $n^2$ відповідно. Нехай одиницею часу буде одна мілісекунда. Який максимальний  розмір задачі може опрацювати комп'ютер, виконуючи відповідно першим та другим алгоритмом за одну секунду? "
   ]
  }
 ],
 "metadata": {
  "kernelspec": {
   "display_name": "Python 3 (ipykernel)",
   "language": "python",
   "name": "python3"
  },
  "language_info": {
   "codemirror_mode": {
    "name": "ipython",
    "version": 3
   },
   "file_extension": ".py",
   "mimetype": "text/x-python",
   "name": "python",
   "nbconvert_exporter": "python",
   "pygments_lexer": "ipython3",
   "version": "3.9.12"
  }
 },
 "nbformat": 4,
 "nbformat_minor": 2
}
