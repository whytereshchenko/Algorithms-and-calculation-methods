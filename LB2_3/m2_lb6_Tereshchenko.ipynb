{
 "cells": [
  {
   "cell_type": "markdown",
   "id": "82941e6d",
   "metadata": {},
   "source": [
    "### 22.12.22, &copy; [Daniil Tereshchenko](https://www.linkedin.com/in/daniil-tereshchenko/), 2022"
   ]
  },
  {
   "cell_type": "markdown",
   "id": "a3ad2633",
   "metadata": {},
   "source": [
    "# Практичне заняття № 6. Нелінійна багатовимірна безумовна оптимізація\n"
   ]
  },
  {
   "cell_type": "markdown",
   "id": "311cafc7",
   "metadata": {},
   "source": [
    "**Мета:** Розв'язати індивідуальне завдання №6 з методички для самостійної роботи з гідно з варіантом"
   ]
  },
  {
   "cell_type": "markdown",
   "id": "ad766703",
   "metadata": {},
   "source": [
    "# Хід роботи"
   ]
  },
  {
   "cell_type": "markdown",
   "id": "08a2bf31",
   "metadata": {},
   "source": [
    "<img src=\"images/task.png\">"
   ]
  },
  {
   "cell_type": "markdown",
   "id": "eb9e64d0",
   "metadata": {},
   "source": [
    "# Метод Ньютона:"
   ]
  },
  {
   "cell_type": "markdown",
   "id": "abdc2181",
   "metadata": {},
   "source": [
    "### Перша ітерація"
   ]
  },
  {
   "cell_type": "markdown",
   "id": "952aaebb",
   "metadata": {},
   "source": [
    "$$\n",
    "\\left ( \\frac{\\partial f}{\\partial X} \\right ) ^ {(0)} =\n",
    "\\begin{pmatrix}\n",
    "6*2 + 3(2-1)^2 \\\\\n",
    "6*2 + 18*-2 - 6\n",
    "\\end{pmatrix}\n",
    "=\n",
    "\\begin{pmatrix}\n",
    "-9\\\\\n",
    "-30\n",
    " \\end{pmatrix}\n",
    "$$"
   ]
  },
  {
   "cell_type": "markdown",
   "id": "4c401851",
   "metadata": {},
   "source": [
    "$$\n",
    "H^{(0)} = H(2, -2) = \n",
    "\\begin{pmatrix}\n",
    "6(x_{1}-1) & 6 \\\\\n",
    "6 & 18 \n",
    "\\end{pmatrix}\n",
    "=\n",
    "\\begin{pmatrix}\n",
    "6 & 6 \\\\\n",
    "6 & 18 \n",
    "\\end{pmatrix}\n",
    "$$"
   ]
  },
  {
   "cell_type": "markdown",
   "id": "4ca398e1",
   "metadata": {},
   "source": [
    "$$\n",
    "\\left ( H^{(0)} \\right )^{-1} = \n",
    "\\begin{pmatrix}\n",
    "0.25 & -0.083 \\\\\n",
    "-0.083 & 0.083\n",
    "\\end{pmatrix}\n",
    "$$"
   ]
  },
  {
   "cell_type": "markdown",
   "id": "283da2a0",
   "metadata": {},
   "source": [
    "$$\n",
    "x^{(1)} = \n",
    "\\begin{pmatrix}\n",
    "2\\\\\n",
    "-2\n",
    "\\end{pmatrix}\n",
    "-\n",
    "\\begin{pmatrix}\n",
    "0.25 & -0.083\\\\\n",
    "-0.0832 & 0.083\n",
    "\\end{pmatrix}\n",
    "\\begin{pmatrix}\n",
    "-9\\\\\n",
    "-30\n",
    "\\end{pmatrix}\n",
    "=\n",
    "\\begin{pmatrix}\n",
    "1.75\\\\\n",
    "-0.25\n",
    "\\end{pmatrix}\n",
    "$$"
   ]
  },
  {
   "cell_type": "markdown",
   "id": "947c4ace",
   "metadata": {},
   "source": [
    "$$\n",
    "\\left ( \\frac{\\partial f}{\\partial X} \\right ) ^ {(0)} =\n",
    "\\begin{pmatrix}\n",
    "\\left | 0.1875 \\right |\\\\\n",
    "\\left | 0.0 \\right |\n",
    "\\end{pmatrix}\n",
    "\\begin{pmatrix}\n",
    "\\leq Eps = 0.02\\\\\n",
    "\\leq Eps = 0.02\n",
    "\\end{pmatrix}\n",
    "$$"
   ]
  },
  {
   "cell_type": "markdown",
   "id": "b8d79edf",
   "metadata": {},
   "source": [
    "$$\n",
    "Y_{min} = 0.8593\n",
    "$$"
   ]
  },
  {
   "cell_type": "markdown",
   "id": "16d1d048",
   "metadata": {},
   "source": [
    "#  Метод покоординатного спуску:\n"
   ]
  },
  {
   "cell_type": "markdown",
   "id": "475ab781",
   "metadata": {},
   "source": [
    "$$\n",
    "f(x_{1},x_{2}) = (x_{1} - 1)^3 + (3x_{2} - 1)^2 + 6x_{1}x_{2}\\\\\n",
    "X^0 = \n",
    "\\begin{pmatrix}\n",
    "-4\\\\\n",
    "3\n",
    "\\end{pmatrix}\n",
    ", Eps = 0.05\n",
    "$$"
   ]
  },
  {
   "cell_type": "markdown",
   "id": "0849c6a5",
   "metadata": {},
   "source": [
    "### Перша ітерація"
   ]
  },
  {
   "cell_type": "markdown",
   "id": "153628e2",
   "metadata": {},
   "source": [
    "Перша координата"
   ]
  },
  {
   "cell_type": "markdown",
   "id": "7a610144",
   "metadata": {},
   "source": [
    "$$\n",
    "x_{1}^{(1)} = x_{1}^{(0)} - \\left [ \\left(\\frac{\\partial^2 f}{\\partial x_{1}^{2}}\\right)^{(0)}\\right ]^{-1} \\left(\\frac{\\partial f}{\\partial x_{1}}^{(0)}  \\right)\\\\\n",
    "x_{1}^{(1)} = -4 - \\frac{93}{-30} = -0.9\\\\\n",
    "X^0 =\n",
    "\\begin{pmatrix}\n",
    "-0.9\\\\\n",
    "3\n",
    "\\end{pmatrix}\n",
    "$$"
   ]
  },
  {
   "cell_type": "markdown",
   "id": "1f0e8f40",
   "metadata": {},
   "source": [
    "Друга координата"
   ]
  },
  {
   "cell_type": "markdown",
   "id": "05e7cd2e",
   "metadata": {},
   "source": [
    "$$\n",
    "x_{2}^{(1)} = x_{2}^{(0)} - \\left [ \\left(\\frac{\\partial^2 f}{\\partial x_{2}^{2}}\\right)^{(0)}\\right ]^{-1} \\left(\\frac{\\partial f}{\\partial x_{2}}^{(0)}  \\right)\\\\\n",
    "x_{2}^{(1)} = 3 - \\frac{42.6}{19} = 0.63\\\\\n",
    "X^0 = \n",
    "\\begin{pmatrix}\n",
    "-0.9\\\\\n",
    "0.63\n",
    "\\end{pmatrix}\n",
    "$$"
   ]
  },
  {
   "cell_type": "markdown",
   "id": "b2f0d394",
   "metadata": {},
   "source": [
    "Перевірка"
   ]
  },
  {
   "cell_type": "markdown",
   "id": "89bd7e5d",
   "metadata": {},
   "source": [
    "$$\n",
    "X^{(1)} = \n",
    "\\begin{pmatrix}\n",
    "-0.9\\\\\n",
    "0.63\n",
    "\\end{pmatrix}\n",
    "; \\left(\\frac{\\partial f}{\\partial X}^{(1)}\\right) = \n",
    "\\begin{pmatrix}\n",
    "14.61\\\\\n",
    "-0.06\n",
    "\\end{pmatrix}\n",
    "\\geq Eps\n",
    "$$"
   ]
  },
  {
   "cell_type": "markdown",
   "id": "ed83c8d7",
   "metadata": {},
   "source": [
    "### Друга ітерація"
   ]
  },
  {
   "cell_type": "markdown",
   "id": "ff588c3b",
   "metadata": {},
   "source": [
    "Перша координата"
   ]
  },
  {
   "cell_type": "markdown",
   "id": "d1d2c1b2",
   "metadata": {},
   "source": [
    "$$\n",
    "x_{1}^{(2)} = x_{1}^{(1)} - \\left [ \\left(\\frac{\\partial^2 f}{\\partial x_{1}^{2}}\\right)^{(1)}\\right ]^{-1} \\left(\\frac{\\partial f}{\\partial x_{1}}^{(1)}  \\right)\\\\\n",
    "x_{1}^{(2)} = -0.9 - \\frac{14.61}{-11.4} = 0.381\\\\\n",
    "X^0 = \n",
    "\\begin{pmatrix}\n",
    "0.381\\\\\n",
    "0.63\n",
    "\\end{pmatrix}\n",
    "$$"
   ]
  },
  {
   "cell_type": "markdown",
   "id": "65ada705",
   "metadata": {},
   "source": [
    "Друга координата"
   ]
  },
  {
   "cell_type": "markdown",
   "id": "ed45dd37",
   "metadata": {},
   "source": [
    "$$\n",
    "x_{2}^{(2)} = x_{2}^{(1)} - \\left [ \\left(\\frac{\\partial^2 f}{\\partial x_{2}^{2}}\\right)^{(1)}\\right ]^{-1} \\left(\\frac{\\partial f}{\\partial x_{2}}^{(1)}  \\right)\\\\\n",
    "x_{2}^{(2)} = 0.63 - \\frac{7.626}{18} = 0.206\\\\\n",
    "X^0 = \n",
    "\\begin{pmatrix}\n",
    "0.381\\\\\n",
    "0.206\n",
    "\\end{pmatrix}\n",
    "$$"
   ]
  },
  {
   "cell_type": "markdown",
   "id": "4e9f3571",
   "metadata": {},
   "source": [
    "Перевірка"
   ]
  },
  {
   "cell_type": "markdown",
   "id": "875bd955",
   "metadata": {},
   "source": [
    "$$\n",
    "X^{(2)} = \n",
    "\\begin{pmatrix}\n",
    "0.381\\\\\n",
    "0.206 \n",
    "\\end{pmatrix}\n",
    ";\\left(\\frac{\\partial f}{\\partial X}^{(2)}\\right) = \n",
    "\\begin{pmatrix}\n",
    "4.929\\\\\n",
    "7.626\n",
    "\\end{pmatrix}\n",
    "\\geq Eps\n",
    "$$"
   ]
  },
  {
   "cell_type": "markdown",
   "id": "c484363d",
   "metadata": {},
   "source": [
    "### Третя ітерація"
   ]
  },
  {
   "cell_type": "markdown",
   "id": "6767ccd9",
   "metadata": {},
   "source": [
    "Перша координата"
   ]
  },
  {
   "cell_type": "markdown",
   "id": "a9c7c5a3",
   "metadata": {},
   "source": [
    "$$\n",
    "x_{1}^{(3)} = x_{1}^{(2)} - \\left [ \\left(\\frac{\\partial^2 f}{\\partial x_{1}^{2}}\\right)^{(2)}\\right ]^{-1} \\left(\\frac{\\partial f}{\\partial x_{1}}^{(2)}  \\right)\\\\\n",
    "x_{1}^{(3)} = 0.381 - \\frac{2.385}{-3.714} = 1.023\\\\\n",
    "X^0 = \n",
    "\\begin{pmatrix}\n",
    "1.023\\\\ \n",
    "0.206\n",
    "\\end{pmatrix}\n",
    "$$"
   ]
  },
  {
   "cell_type": "markdown",
   "id": "e4682558",
   "metadata": {},
   "source": [
    "Друга координата"
   ]
  },
  {
   "cell_type": "markdown",
   "id": "74c9d3ac",
   "metadata": {},
   "source": [
    "$$\n",
    "x_{2}^{(3)} = x_{2}^{(2)} - \\left [ \\left(\\frac{\\partial^2 f}{\\partial x_{2}^{2}}\\right)^{(2)}\\right ]^{-1} \\left(\\frac{\\partial f}{\\partial x_{2}}^{(2)}  \\right)\\\\\n",
    "x_{2}^{(3)} = 0.206 - \\frac{3.846}{18} = -0.0076\\\\\n",
    "X^0 = \n",
    "\\begin{pmatrix}\n",
    "1.023\\\\\n",
    "-0.0076\n",
    "\\end{pmatrix}\n",
    "$$"
   ]
  },
  {
   "cell_type": "markdown",
   "id": "23bb6ea6",
   "metadata": {},
   "source": [
    "Перевірка"
   ]
  },
  {
   "cell_type": "markdown",
   "id": "1261fe69",
   "metadata": {},
   "source": [
    "$$\n",
    "X^{(1)} = \n",
    "\\begin{pmatrix}\n",
    "1.023\\\\\n",
    "-0.0076\n",
    "\\end{pmatrix}\n",
    "; \\left(\\frac{\\partial f}{\\partial X}^{(3)}\\right) = \n",
    "\\begin{pmatrix}\n",
    "-0.044\\\\\n",
    "0.0011\n",
    "\\end{pmatrix}\n",
    "< Eps\n",
    "$$"
   ]
  },
  {
   "cell_type": "markdown",
   "id": "f4ba3762",
   "metadata": {},
   "source": [
    "Отримали результат який відповідає умовам задачі. Рішення знайдено"
   ]
  },
  {
   "cell_type": "markdown",
   "id": "f460ab22",
   "metadata": {},
   "source": [
    "$$\n",
    "Y_{min} = 0.999483207\n",
    "$$"
   ]
  },
  {
   "cell_type": "markdown",
   "id": "4c2f7375",
   "metadata": {},
   "source": [
    "# Лабораторна робота №3. Нелінійна багатовимірна безумовна оптимізація"
   ]
  },
  {
   "cell_type": "markdown",
   "id": "a7f57045",
   "metadata": {},
   "source": [
    "**Мета:** Написати код мовою Python розв'язку задачі нелінійної безумовної багатовимірної оптимізації"
   ]
  },
  {
   "cell_type": "markdown",
   "id": "074d7554",
   "metadata": {},
   "source": [
    "# Хід роботи"
   ]
  },
  {
   "cell_type": "markdown",
   "id": "c9a1aa29",
   "metadata": {},
   "source": [
    "# Похідні заданої функції"
   ]
  },
  {
   "cell_type": "code",
   "execution_count": 3,
   "id": "69ac36f8",
   "metadata": {},
   "outputs": [],
   "source": [
    "from sympy import *"
   ]
  },
  {
   "cell_type": "code",
   "execution_count": 4,
   "id": "f4a32f5f",
   "metadata": {},
   "outputs": [],
   "source": [
    "x1, x2 = symbols('x1 x2')\n",
    "init_printing(use_unicode=True)"
   ]
  },
  {
   "cell_type": "code",
   "execution_count": 5,
   "id": "1daba6d6",
   "metadata": {},
   "outputs": [],
   "source": [
    "expr = (x1-1)**3 + (3*x2-1)**2 + 6*x1*x2  # Моя функція"
   ]
  },
  {
   "cell_type": "code",
   "execution_count": 6,
   "id": "54033eb0",
   "metadata": {},
   "outputs": [
    {
     "data": {
      "image/png": "[encoded data removed]",
      "text/latex": [
       "$\\displaystyle 6 x_{2} + 3 \\left(x_{1} - 1\\right)^{2}$"
      ],
      "text/plain": [
       "                 2\n",
       "6⋅x₂ + 3⋅(x₁ - 1) "
      ]
     },
     "execution_count": 6,
     "metadata": {},
     "output_type": "execute_result"
    }
   ],
   "source": [
    "expr.diff(x1, 1) # df/dx1    # dif1"
   ]
  },
  {
   "cell_type": "code",
   "execution_count": 7,
   "id": "8f120217",
   "metadata": {},
   "outputs": [
    {
     "data": {
      "image/png": "[encoded data removed]",
      "text/latex": [
       "$\\displaystyle 6 \\left(x_{1} - 1\\right)$"
      ],
      "text/plain": [
       "6⋅(x₁ - 1)"
      ]
     },
     "execution_count": 7,
     "metadata": {},
     "output_type": "execute_result"
    }
   ],
   "source": [
    "expr.diff(x1, 2) # df/dx1^2    # dif2"
   ]
  },
  {
   "cell_type": "code",
   "execution_count": 8,
   "id": "74c73ae4",
   "metadata": {},
   "outputs": [
    {
     "data": {
      "image/png": "[encoded data removed]",
      "text/latex": [
       "$\\displaystyle 6 x_{1} + 18 x_{2} - 6$"
      ],
      "text/plain": [
       "6⋅x₁ + 18⋅x₂ - 6"
      ]
     },
     "execution_count": 8,
     "metadata": {},
     "output_type": "execute_result"
    }
   ],
   "source": [
    "expr.diff(x2, 1) # df/dx2    # dif3"
   ]
  },
  {
   "cell_type": "code",
   "execution_count": 9,
   "id": "a857bf25",
   "metadata": {
    "scrolled": true
   },
   "outputs": [
    {
     "data": {
      "image/png": "[encoded data removed]",
      "text/latex": [
       "$\\displaystyle 18$"
      ],
      "text/plain": [
       "18"
      ]
     },
     "execution_count": 9,
     "metadata": {},
     "output_type": "execute_result"
    }
   ],
   "source": [
    "expr.diff(x2, 2) # df/dx2^2    # dif4"
   ]
  },
  {
   "cell_type": "code",
   "execution_count": 10,
   "id": "648fb4f2",
   "metadata": {},
   "outputs": [
    {
     "data": {
      "image/png": "[encoded data removed]",
      "text/latex": [
       "$\\displaystyle 6$"
      ],
      "text/plain": [
       "6"
      ]
     },
     "execution_count": 10,
     "metadata": {},
     "output_type": "execute_result"
    }
   ],
   "source": [
    "expr.diff(x1, x2) # dif5"
   ]
  },
  {
   "cell_type": "code",
   "execution_count": 11,
   "id": "978351bb",
   "metadata": {},
   "outputs": [
    {
     "data": {
      "image/png": "[encoded data removed]",
      "text/latex": [
       "$\\displaystyle 6$"
      ],
      "text/plain": [
       "6"
      ]
     },
     "execution_count": 11,
     "metadata": {},
     "output_type": "execute_result"
    }
   ],
   "source": [
    "expr.diff(x2, x1) # dif6"
   ]
  },
  {
   "cell_type": "code",
   "execution_count": 14,
   "id": "76e95c4c",
   "metadata": {},
   "outputs": [],
   "source": [
    "def difs(h): \n",
    "    if h == 1:\n",
    "        return  6 * X[2] + 3 * (X[1] - 1)**2 # dif1\n",
    "    elif h == 2:\n",
    "        return 6 * (X[1] - 1) # dif2\n",
    "    elif h == 3:\n",
    "        return 6 * X[1] + 18 * X[2] - 6 # dif3\n",
    "    elif h == 4:\n",
    "        return 18 # dif4\n",
    "    elif h == 5 or h == 6:\n",
    "        return 6 # dif5 and dif6\n",
    "    \n",
    "\n",
    "def finals(h, param1, param2):\n",
    "    if h == 1:\n",
    "        return 6 * param2 + 3 * (param1 - 1)**2\n",
    "    if h == 2:\n",
    "        return 6 * (param1 - 1)\n",
    "    if h == 3:\n",
    "        return 6 * param1 + 18 * param2 - 6\n",
    "    if h == 4:\n",
    "        return 18\n",
    "    if h == 5:\n",
    "        return 6\n",
    "    if h == 6:\n",
    "        return (param1-1)**3 + (3 * param2-1)**2 + 6 * param1 * param2"
   ]
  },
  {
   "cell_type": "markdown",
   "id": "336a0499",
   "metadata": {},
   "source": [
    "# 1.Реалізація на Python методу Ньютона:"
   ]
  },
  {
   "cell_type": "markdown",
   "id": "64b40624",
   "metadata": {},
   "source": [
    "### Розрахунки"
   ]
  },
  {
   "cell_type": "code",
   "execution_count": 278,
   "id": "f2709c78",
   "metadata": {},
   "outputs": [
    {
     "name": "stdout",
     "output_type": "stream",
     "text": [
      "1.75\n",
      "-0.25\n",
      "Iteration:  1 \n",
      " X[0] =  1.75 \n",
      " X[1] =  -0.25 \n",
      " r_gessian =  [0.25, -0.08333333333333333, -0.08333333333333333, 0.08333333333333333] \n",
      " Y_min =  0.859375\n"
     ]
    }
   ],
   "source": [
    "eps = 0.02\n",
    "X = [9999, 2, -2]\n",
    "done = False\n",
    "counter = 1\n",
    "while done == False:\n",
    "    \n",
    "    #1\n",
    "    dfx = [finals(1, X[1], X[2]), \n",
    "           finals(3, X[1], X[2])]\n",
    "    \n",
    "    #2\n",
    "    gessian = [difs(2), difs(5),\n",
    "               difs(6), difs(4)]\n",
    "    \n",
    "    #3\n",
    "    det = difs(2) * difs(4) - difs(5) * difs(6)\n",
    "    \n",
    "    reversed_gessian = [1/det * difs(4), 1/det * (-1 * difs(5)),\n",
    "                        1/det * (-1 * difs(6)), 1/det * difs(2)]\n",
    "    \n",
    "    #4\n",
    "    xmul = [dfx[0] * reversed_gessian[0] + dfx[1] * reversed_gessian[1] , \n",
    "           dfx[0] * reversed_gessian[2] + dfx[1] * reversed_gessian[3]]\n",
    "    \n",
    "    \n",
    "\n",
    "    X[1] = X[1] + xmul[0] * -1\n",
    "    X[2] = X[2] + xmul[1] * -1\n",
    "    print(X[1])\n",
    "    print(X[2])\n",
    "    \n",
    "    \n",
    "    \n",
    "    \n",
    "    #5\n",
    "    if abs(finals(1, X[1], X[2])) > eps and abs(finals(3, X[1], X[2])) > eps:\n",
    "        print(\"Iteration: \", counter, '\\n', \"X[0] = \", X[1], '\\n', \"X[1] = \", X[2], '\\n', \"r_gessian = \", reversed_gessian,'\\n')\n",
    "        print('-'*24)\n",
    "        counter += 1\n",
    "    else:\n",
    "        print(\"Iteration: \", counter, '\\n', \"X[0] = \", X[1], '\\n', \"X[1] = \", X[2],'\\n', \"r_gessian = \", reversed_gessian,'\\n',\"Y_min = \", finals(6, X[1], X[2]))\n",
    "        counter += 1\n",
    "        done = True\n",
    "    \n",
    "    "
   ]
  },
  {
   "cell_type": "markdown",
   "id": "30bf74b3",
   "metadata": {},
   "source": [
    "# 2.Реалізація на Python методу покоординатного спуску:"
   ]
  },
  {
   "cell_type": "markdown",
   "id": "65225fbf",
   "metadata": {},
   "source": [
    "### Розрахунки"
   ]
  },
  {
   "cell_type": "code",
   "execution_count": 13,
   "id": "ca46607a",
   "metadata": {},
   "outputs": [
    {
     "name": "stdout",
     "output_type": "stream",
     "text": [
      "Iteration:  1 \n",
      " X[0] =  -0.8999999999999999 \n",
      " X[1] =  0.6333333333333333\n",
      "------------------------\n",
      "Iteration:  2 \n",
      " X[0] =  0.3833333333333335 \n",
      " X[1] =  0.20555555555555555\n",
      "------------------------\n",
      "Iteration:  3 \n",
      " X[0] =  1.0250000000000004 \n",
      " X[1] =  -0.008333333333333415 \n",
      " \n",
      " Y_min =  0.9993906250000004\n"
     ]
    }
   ],
   "source": [
    "eps = 0.05\n",
    "X = [9999, -4, 3]\n",
    "\n",
    "done = False\n",
    "counter = 1\n",
    "while done == False:\n",
    "    # 1\n",
    "    X[1] = X[1] - difs(1)/difs(2)\n",
    "    \n",
    "    # 2\n",
    "    X[2] = X[2] - difs(3)/difs(4)\n",
    "    # 3\n",
    "    \n",
    "    if finals(1, X[1], X[2]) < eps and finals(3, X[1], X[2]) < eps:\n",
    "        print(\"Iteration: \", counter, '\\n', \"X[0] = \", X[1], '\\n', \"X[1] = \", X[2], '\\n', '\\n', \"Y_min = \", finals(6, X[1], X[2]))\n",
    "        counter += 1\n",
    "        done = True\n",
    "    else:\n",
    "        print(\"Iteration: \", counter, '\\n', \"X[0] = \", X[1], '\\n', \"X[1] = \", X[2])\n",
    "        print('-'*24)\n",
    "        counter += 1"
   ]
  }
 ],
 "metadata": {
  "kernelspec": {
   "display_name": "Python 3 (ipykernel)",
   "language": "python",
   "name": "python3"
  },
  "language_info": {
   "codemirror_mode": {
    "name": "ipython",
    "version": 3
   },
   "file_extension": ".py",
   "mimetype": "text/x-python",
   "name": "python",
   "nbconvert_exporter": "python",
   "pygments_lexer": "ipython3",
   "version": "3.9.12"
  }
 },
 "nbformat": 4,
 "nbformat_minor": 5
}
