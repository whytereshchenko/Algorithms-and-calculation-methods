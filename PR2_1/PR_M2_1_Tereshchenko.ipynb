{
 "cells": [
  {
   "cell_type": "markdown",
   "id": "dc8c3421",
   "metadata": {},
   "source": [
    "#### 29.09.22, &copy; [Daniil Tereshchenko](https://www.linkedin.com/in/daniil-tereshchenko/), 2022"
   ]
  },
  {
   "cell_type": "markdown",
   "id": "b4277eb8",
   "metadata": {},
   "source": [
    "## Засвоєння графічного методу розв’язку задачі лінійного програмування.\n"
   ]
  },
  {
   "cell_type": "markdown",
   "id": "1e824d75",
   "metadata": {},
   "source": [
    "1. Задача"
   ]
  },
  {
   "cell_type": "markdown",
   "id": "cde26300",
   "metadata": {},
   "source": [
    "$$\n",
    "\\left\\{\n",
    "    \\begin{array}\\\\\n",
    "        x_{1} - x_{2} \\geq -3 \\\\\n",
    "        6x_{1} + 7x_{2} \\leq 42 \\\\\n",
    "        x_{1} + x_{2} \\geq 4 \\\\\n",
    "        x_{1} \\geq 0, x_{2} \\geq 0\n",
    "    \\end{array}\n",
    "\\right.\n",
    "$$"
   ]
  },
  {
   "cell_type": "markdown",
   "id": "0da9afbb",
   "metadata": {},
   "source": [
    "2. Графік функцій відповідно до варіанту"
   ]
  },
  {
   "cell_type": "markdown",
   "id": "29138af1",
   "metadata": {},
   "source": [
    "<img src=\"images/1.jpg\">"
   ]
  },
  {
   "cell_type": "markdown",
   "id": "776e4746",
   "metadata": {},
   "source": [
    "3. Кординати min(x1,x2) точки А"
   ]
  },
  {
   "cell_type": "markdown",
   "id": "4e2bc628",
   "metadata": {},
   "source": [
    "$$\n",
    "A_{min} = \\left\\{\n",
    "    \\begin{array}\\\\\n",
    "        x_{1} - x_{2} = -3 \\\\\n",
    "        x_{1} + x_{2} = 4 \n",
    "    \\end{array}\n",
    "\\right.\n",
    "$$\n",
    "\n",
    "$$\n",
    "A_{min} = \\left\\{\n",
    "    \\begin{array}\\\\\n",
    "        x_{1} = x_{2} -3 \\\\\n",
    "        x_{2} - 3 + x_{2} = 4 \n",
    "    \\end{array}\n",
    "\\right.\n",
    "$$\n",
    "\n",
    "$$\n",
    "A_{min} = \\left\\{\n",
    "    \\begin{array}\\\\\n",
    "        x_{2} = 3.5 \\\\\n",
    "        x_{1} = 0.5  \n",
    "    \\end{array}\n",
    "\\right.\n",
    "$$"
   ]
  },
  {
   "cell_type": "markdown",
   "id": "42307992",
   "metadata": {},
   "source": [
    "4. Кординати max(x1,x2) точки B"
   ]
  },
  {
   "cell_type": "markdown",
   "id": "9fa993f4",
   "metadata": {},
   "source": [
    "$$\n",
    "C_{max} = \\left\\{\n",
    "    \\begin{array}\\\\\n",
    "        6x_{1} + 7x_{2} = 42 \\\\\n",
    "        x_{2} = 0\n",
    "    \\end{array}\n",
    "\\right.\n",
    "$$\n",
    "\n",
    "$$\n",
    "C_{max} = \\left\\{\n",
    "    \\begin{array}\\\\\n",
    "        6x_{1} = 42 \\\\\n",
    "        x_{2} = 0\n",
    "    \\end{array}\n",
    "\\right.\n",
    "$$\n",
    "\n",
    "$$\n",
    "C_{max} = \\left\\{\n",
    "    \\begin{array}\\\\\n",
    "        x_{1} = 7 \\\\\n",
    "        x_{2} = 0\n",
    "    \\end{array}\n",
    "\\right.\n",
    "$$"
   ]
  },
  {
   "cell_type": "markdown",
   "id": "c53295fc",
   "metadata": {},
   "source": [
    "5. Відповідь"
   ]
  },
  {
   "cell_type": "markdown",
   "id": "f71aa9b4",
   "metadata": {},
   "source": [
    "$$\n",
    "coords = \\left\\{\n",
    "    \\begin{array}\\\\\n",
    "        A_{min}(0.5 , 3.5) \\\\\n",
    "        B_{max}(7 , 0)\n",
    "    \\end{array}\n",
    "\\right.\n",
    "$$"
   ]
  }
 ],
 "metadata": {
  "kernelspec": {
   "display_name": "Python 3 (ipykernel)",
   "language": "python",
   "name": "python3"
  },
  "language_info": {
   "codemirror_mode": {
    "name": "ipython",
    "version": 3
   },
   "file_extension": ".py",
   "mimetype": "text/x-python",
   "name": "python",
   "nbconvert_exporter": "python",
   "pygments_lexer": "ipython3",
   "version": "3.9.12"
  }
 },
 "nbformat": 4,
 "nbformat_minor": 5
}
