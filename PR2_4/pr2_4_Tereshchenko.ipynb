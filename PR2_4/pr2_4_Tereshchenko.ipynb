{
 "cells": [
  {
   "cell_type": "markdown",
   "id": "3fa68574",
   "metadata": {},
   "source": [
    "#### 19.11.22, &copy; [Daniil Tereshchenko](https://www.linkedin.com/in/daniil-tereshchenko/), 2022"
   ]
  },
  {
   "cell_type": "markdown",
   "id": "239078e6",
   "metadata": {},
   "source": [
    "# Практична робота №4. Задача вибору або задача про призначення"
   ]
  },
  {
   "cell_type": "markdown",
   "id": "9fa9b214",
   "metadata": {},
   "source": [
    "### Мета. _набуття навичок розв’язання задачі про призначення угорським методом._"
   ]
  },
  {
   "cell_type": "markdown",
   "id": "a1f425d1",
   "metadata": {},
   "source": [
    "Знаходження рішення для мінімального часу виконання"
   ]
  },
  {
   "cell_type": "markdown",
   "id": "9916a472",
   "metadata": {},
   "source": [
    "\\begin{pmatrix}\n",
    "7 & 2 & 6 & 5 & 5\\\\\n",
    "2 & 8 & 9 & 7 & 3\\\\\n",
    "7 & 8 & 6 & 6 & 10\\\\\n",
    "3 & 9 & 8 & 8 & 8\\\\\n",
    "1 & 4 & 7 & 1 & 6\n",
    "\\end{pmatrix}"
   ]
  },
  {
   "cell_type": "markdown",
   "id": "52d5d8ae",
   "metadata": {},
   "source": [
    "\\begin{pmatrix}\n",
    "7 & \\textbf{2} & 6 & 5 & 5\\\\\n",
    "\\textbf{2} & 8 & 9 & 7 & 3\\\\\n",
    "7 & 8 & \\textbf{6} & 6 & 10\\\\\n",
    "\\textbf{3} & 9 & 8 & 8 & 8\\\\\n",
    "1 & 4 & 7 & \\textbf{1} & 6\n",
    "\\end{pmatrix}\n"
   ]
  },
  {
   "cell_type": "markdown",
   "id": "fc085f25",
   "metadata": {},
   "source": [
    "\\begin{pmatrix}\n",
    "5 & \\textbf{0} & 4 & 3 & 3\\\\\n",
    "\\textbf{0} & 6 & 7 & 5 & \\textbf{1}\\\\\n",
    "1 & 2 & \\textbf{0} & \\textbf{0} & 4\\\\\n",
    "\\textbf{0} & 6 & 5 & 5 & 5\\\\\n",
    "\\textbf{0} & 3 & 6 & \\textbf{0} & 5\n",
    "\\end{pmatrix}"
   ]
  },
  {
   "cell_type": "markdown",
   "id": "d3e1eda2",
   "metadata": {},
   "source": [
    "\\begin{pmatrix}\n",
    "5 & \\textbf{0} & 4 & 3 & 2\\\\\n",
    "\\textbf{0} & 6 & 7 & 5 & \\textbf{0}\\\\\n",
    "1 & 2 & \\textbf{0} & \\textbf{0} & 3\\\\\n",
    "\\textbf{0} & 6 & 5 & 5 & 4\\\\\n",
    "\\textbf{0} & 3 & 6 & \\textbf{0} & 4\n",
    "\\end{pmatrix}"
   ]
  },
  {
   "cell_type": "markdown",
   "id": "67e611ad",
   "metadata": {},
   "source": [
    "\n",
    "\\begin{pmatrix}\n",
    "5 & 0^{×} & 4 & 3 & 2\\\\\n",
    "\\textbf{0} & 6 & 7 & 5 & 0^{×}\\\\\n",
    "1 & 2 & 0^{×} & \\textbf{0} & 3\\\\\n",
    "0^{×} & 6 & 5 & 5 & 4\\\\\n",
    "\\textbf{0} & 3 & 6 & 0^{×} & 4\n",
    "\\end{pmatrix}"
   ]
  },
  {
   "cell_type": "markdown",
   "id": "0301420a",
   "metadata": {},
   "source": [
    "Мінімальний час = $2 + 3 + 6 + 3 + 1 = 15$ "
   ]
  },
  {
   "cell_type": "markdown",
   "id": "ad70215c",
   "metadata": {},
   "source": [
    "Знаходження рішення для максимальної ефективності"
   ]
  },
  {
   "cell_type": "markdown",
   "id": "a41e2c1b",
   "metadata": {},
   "source": [
    "\\begin{pmatrix}\n",
    "7 & 2 & 6 & 5 & 5\\\\\n",
    "2 & 8 & 9 & 7 & 3\\\\\n",
    "7 & 8 & 6 & 6 & 10\\\\\n",
    "3 & 9 & 8 & 8 & 8\\\\\n",
    "1 & 4 & 7 & 1 & 6\n",
    "\\end{pmatrix}"
   ]
  },
  {
   "cell_type": "markdown",
   "id": "87c2bcb6",
   "metadata": {},
   "source": [
    "\\begin{pmatrix}\n",
    "\\textbf{-7} & -2 & -6 & -5 & -5\\\\\n",
    "-2 & -8 & \\textbf{-9} & -7 & -3\\\\\n",
    "-7 & -8 & -6 & -6 & \\textbf{-10}\\\\\n",
    "-3 & \\textbf{-9} & -8 & -8 & -8\\\\\n",
    "-1 & -4 & \\textbf{-7} & -1 & -6\n",
    "\\end{pmatrix}"
   ]
  },
  {
   "cell_type": "markdown",
   "id": "5c96f774",
   "metadata": {},
   "source": [
    "\\begin{pmatrix}\n",
    "\\textbf{0} & 5 & 1 & 2 & 2\\\\\n",
    "7 & 1 & \\textbf{0} & 2 & 6\\\\\n",
    "3 & 2 & 4 & 4 & \\textbf{0}\\\\\n",
    "6 & \\textbf{0} & 1 & \\textbf{1} & 1\\\\\n",
    "6 & 3 & \\textbf{0} & 6 & 1\n",
    "\\end{pmatrix}"
   ]
  },
  {
   "cell_type": "markdown",
   "id": "5cb2cdf9",
   "metadata": {},
   "source": [
    "\\begin{pmatrix}\n",
    "0^{×} & 5 & 1 & 1 & 2 & .\\\\\n",
    "7 & 1 & 0^{×} & \\textbf{1} & 6 & *\\\\\n",
    "3 & 2 & 4 & 3 & 0^{×} & .\\\\\n",
    "6 & 0^{×} & 1 & \\textbf{0} & 1 & .\\\\\n",
    "6 & 3 & \\textbf{0} & 5 & 1 & *\\\\\n",
    ". & . & * & . & . & .\n",
    "\\end{pmatrix}"
   ]
  },
  {
   "cell_type": "markdown",
   "id": "6d8bb9d7",
   "metadata": {},
   "source": [
    "\\begin{pmatrix}\n",
    "0^{×} & 5 & 2 & 1 & 2\\\\\n",
    "6 & 0^{×} & \\textbf{0} & \\textbf{0} & 5\\\\\n",
    "3 & 2 & 5 & 3 & 0^{×}\\\\\n",
    "6 & \\textbf{0} & 2 & 0^{×} & 1\\\\\n",
    "5 & 2 & 0^{×} & 4 & \\textbf{0}\n",
    "\\end{pmatrix}"
   ]
  },
  {
   "cell_type": "markdown",
   "id": "9417c903",
   "metadata": {},
   "source": [
    "Максимальна ефективність = 7 + 8 + 10 + 8 + 7 = 40"
   ]
  }
 ],
 "metadata": {
  "kernelspec": {
   "display_name": "Python 3 (ipykernel)",
   "language": "python",
   "name": "python3"
  },
  "language_info": {
   "codemirror_mode": {
    "name": "ipython",
    "version": 3
   },
   "file_extension": ".py",
   "mimetype": "text/x-python",
   "name": "python",
   "nbconvert_exporter": "python",
   "pygments_lexer": "ipython3",
   "version": "3.9.12"
  }
 },
 "nbformat": 4,
 "nbformat_minor": 5
}
