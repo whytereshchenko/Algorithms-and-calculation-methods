{
 "cells": [
  {
   "cell_type": "markdown",
   "id": "699050f3",
   "metadata": {},
   "source": [
    "#### 27.10.22, &copy; [Daniil Tereshchenko](https://www.linkedin.com/in/daniil-tereshchenko/), 2022"
   ]
  },
  {
   "cell_type": "markdown",
   "id": "d0f8ed45",
   "metadata": {},
   "source": [
    "## Практичне заняття 4 \"Стиснення даних\""
   ]
  },
  {
   "cell_type": "markdown",
   "id": "663ad64f",
   "metadata": {},
   "source": [
    "Маємо текст AAAABAABABABABCBCAAADAAAABAABABABABCBCAAAD. Закодувати текст, використовуючи алгоритм Хафмана."
   ]
  },
  {
   "cell_type": "markdown",
   "id": "d6f28b5b",
   "metadata": {},
   "source": [
    "$$\n",
    "\\begin{align}\n",
    "\\text{Частота символів:}\\\\\n",
    "\\begin{cases}\n",
    "A - 24\\\\\n",
    "B - 12\\\\\n",
    "C - 4\\\\\n",
    "D - 2\\\\\n",
    "\\end{cases}\n",
    "\\\\\n",
    "\\text{Кодування:}\\\\\n",
    "\\begin{cases}\n",
    "A: 00\\\\\n",
    "B: 01\\\\\n",
    "C: 10\\\\\n",
    "D: 11\\\\\n",
    "\\end{cases}\n",
    "\\\\\n",
    "\\text{Загальна кількість бітів для цього кодування дорівнює 84 біти}\\\\\n",
    "\\\\\n",
    "\\end{align}\n",
    "$$\n"
   ]
  },
  {
   "cell_type": "markdown",
   "id": "cfc52e0c",
   "metadata": {},
   "source": [
    "<img src=\"images/1.jpg\" style=\"width: 640px; height: 360px;\">"
   ]
  },
  {
   "cell_type": "markdown",
   "id": "a1cebf16",
   "metadata": {},
   "source": [
    "Тепер будуємо граф за алгоритмом Хаффмана"
   ]
  },
  {
   "cell_type": "markdown",
   "id": "b5b1328e",
   "metadata": {},
   "source": [
    "<img src=\"images/2.jpg\" style=\"width: 640px; height: 550px;\">"
   ]
  },
  {
   "cell_type": "markdown",
   "id": "7b9b8afe",
   "metadata": {},
   "source": [
    "<img src=\"images/1.jpg\" style=\"width: 640px; height: 360px;\">"
   ]
  },
  {
   "cell_type": "markdown",
   "id": "10eee335",
   "metadata": {},
   "source": [
    "$$\n",
    "\\begin{align}\n",
    "\\\\\n",
    "\\text{Кодування:}\\\\\n",
    "\\begin{cases}\n",
    "A: 0\\\\\n",
    "B: 10\\\\\n",
    "C: 110\\\\\n",
    "D: 111\\\\\n",
    "\\end{cases}\n",
    "\\\\\n",
    "24 * 1 + 12 * 2 + 4 * 3 + 2 * 3 = 24 + 24 + 12 + 6 = 66\n",
    "\\\\\n",
    "\\text{Загальна кількість бітів для цього кодування дорівнює 66 біти}\\\\\n",
    "\\\\\n",
    "\\end{align}\n",
    "$$\n"
   ]
  },
  {
   "cell_type": "markdown",
   "id": "be9f56ba",
   "metadata": {},
   "source": [
    "$66 < 84$ тож алгоритм Хаффмана ефективніший ніж класичний алгоритм кодування"
   ]
  }
 ],
 "metadata": {
  "kernelspec": {
   "display_name": "Python 3 (ipykernel)",
   "language": "python",
   "name": "python3"
  },
  "language_info": {
   "codemirror_mode": {
    "name": "ipython",
    "version": 3
   },
   "file_extension": ".py",
   "mimetype": "text/x-python",
   "name": "python",
   "nbconvert_exporter": "python",
   "pygments_lexer": "ipython3",
   "version": "3.9.12"
  }
 },
 "nbformat": 4,
 "nbformat_minor": 5
}
