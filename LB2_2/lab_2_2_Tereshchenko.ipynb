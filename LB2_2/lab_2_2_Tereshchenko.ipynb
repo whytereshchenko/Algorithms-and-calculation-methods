{
 "cells": [
  {
   "cell_type": "markdown",
   "id": "7df7b27b",
   "metadata": {},
   "source": [
    "### 10.12.22, &copy; [Daniil Tereshchenko](https://www.linkedin.com/in/daniil-tereshchenko/), 2022"
   ]
  },
  {
   "cell_type": "markdown",
   "id": "ad72b794",
   "metadata": {},
   "source": [
    "# Лабораторна робота № 2. Нелінійна одновимірна безумовна оптимізація "
   ]
  },
  {
   "cell_type": "markdown",
   "id": "5fc1eafd",
   "metadata": {},
   "source": [
    "## Практична робота № 5. Методи одновимірної пошукової оптимізації"
   ]
  },
  {
   "cell_type": "markdown",
   "id": "e1dd49d2",
   "metadata": {},
   "source": [
    "## Методу Ньютона:"
   ]
  },
  {
   "cell_type": "code",
   "execution_count": 43,
   "id": "62559c5a",
   "metadata": {},
   "outputs": [],
   "source": [
    "import numpy as np\n",
    "import math"
   ]
  },
  {
   "cell_type": "markdown",
   "id": "2389f947",
   "metadata": {},
   "source": [
    "$$ x^2 - 2 $$"
   ]
  },
  {
   "cell_type": "code",
   "execution_count": 44,
   "id": "ad0b8e35",
   "metadata": {},
   "outputs": [
    {
     "name": "stdout",
     "output_type": "stream",
     "text": [
      "newton_raphson = 1.4142857142857144\n",
      "sqrt(2) = 1.4142135623730951\n"
     ]
    }
   ],
   "source": [
    "f = lambda x: x**2 - 2\n",
    "f_prime = lambda x: 2*x\n",
    "newton_raphson = 1.4 - (f(1.4))/(f_prime(1.4))\n",
    "\n",
    "print(\"newton_raphson =\", newton_raphson)\n",
    "print(\"sqrt(2) =\", np.sqrt(2))"
   ]
  },
  {
   "cell_type": "markdown",
   "id": "41a2a93a",
   "metadata": {},
   "source": [
    "## Метод розподілу інтервалу навпіл:"
   ]
  },
  {
   "cell_type": "markdown",
   "id": "34c05c75",
   "metadata": {},
   "source": [
    "$$ F(x) = (2-x^2)(4-x) $$\n",
    "$$ interval = [1.5;3.5] $$\n",
    "$$ EPS = 0.1 $$"
   ]
  },
  {
   "cell_type": "code",
   "execution_count": 38,
   "id": "dd1c0e1d",
   "metadata": {},
   "outputs": [],
   "source": [
    "aa = 1.5\n",
    "bb = 3.5\n",
    "eps = 0.1"
   ]
  },
  {
   "cell_type": "code",
   "execution_count": 39,
   "id": "f987645d",
   "metadata": {},
   "outputs": [],
   "source": [
    "def func(x):\n",
    "    res = (2-x*x)*(4-x)\n",
    "    return res"
   ]
  },
  {
   "cell_type": "code",
   "execution_count": 40,
   "id": "3e69fa9d",
   "metadata": {},
   "outputs": [],
   "source": [
    "check = True\n",
    "def algo(a,b,eps):\n",
    "    \n",
    "    # 1 шаг\n",
    "    xm = (a + b) / 2\n",
    "    L = b - a\n",
    "    while True:\n",
    "        \n",
    "        # 2 шаг\n",
    "        fxm = func(xm)\n",
    "        x1 = a + L / 4\n",
    "        x2 = b - L / 4\n",
    "        fx1 = func(x1)\n",
    "        fx2 = func(x2)\n",
    "        \n",
    "        # 3 шаг\n",
    "        if fx1 < fxm:\n",
    "            b = xm\n",
    "            xm = x1\n",
    "            fxm = fx1\n",
    "            print(\" a = \", a, \" b = \", b, \" xm = \", xm, \" x1 = \", x1, \" x2 = \", x2, \" fx1 = \", fx1, \" fx2 = \", fx2, \" fxm = \", fxm, \" L = \", L, '\\n')\n",
    "        elif fx2 < fxm:\n",
    "            a = xm\n",
    "            xm = x2\n",
    "            fxm = fx2\n",
    "            print(\" a = \", a, \" b = \", b, \" xm = \", xm, \" x1 = \", x1, \" x2 = \", x2, \" fx1 = \", fx1, \" fx2 = \", fx2, \" fxm = \", fxm, \" L = \", L, '\\n')\n",
    "        elif fx1 >= fxm and fx2 >= fxm:\n",
    "            a = x1\n",
    "            b = x2\n",
    "            print(\" a = \", a, \" b = \", b, \" xm = \", xm, \" x1 = \", x1, \" x2 = \", x2, \" fx1 = \", fx1, \" fx2 = \", fx2, \" fxm = \", fxm, \" L = \", L, '\\n')\n",
    "            \n",
    "        # 4 шаг\n",
    "        L = b - a\n",
    "        if L < eps:\n",
    "            Xopt = xm\n",
    "            Fopt = fxm\n",
    "            return Xopt, Fopt\n",
    "            break"
   ]
  },
  {
   "cell_type": "code",
   "execution_count": 41,
   "id": "ac588de3",
   "metadata": {},
   "outputs": [
    {
     "name": "stdout",
     "output_type": "stream",
     "text": [
      " a =  2.5  b =  3.5  xm =  3.0  x1 =  2.0  x2 =  3.0  fx1 =  -4.0  fx2 =  -7.0  fxm =  -7.0  L =  2.0 \n",
      "\n",
      " a =  2.75  b =  3.25  xm =  3.0  x1 =  2.75  x2 =  3.25  fx1 =  -6.953125  fx2 =  -6.421875  fxm =  -7.0  L =  1.0 \n",
      "\n",
      " a =  2.75  b =  3.0  xm =  2.875  x1 =  2.875  x2 =  3.125  fx1 =  -7.048828125  fx2 =  -6.794921875  fxm =  -7.048828125  L =  0.5 \n",
      "\n",
      " a =  2.8125  b =  2.9375  xm =  2.875  x1 =  2.8125  x2 =  2.9375  fx1 =  -7.018310546875  fx2 =  -7.043212890625  fxm =  -7.048828125  L =  0.25 \n",
      "\n",
      " a =  2.875  b =  2.9375  xm =  2.90625  x1 =  2.84375  x2 =  2.90625  fx1 =  -7.037994384765625  fx2 =  -7.050628662109375  fxm =  -7.050628662109375  L =  0.125 \n",
      "\n"
     ]
    },
    {
     "data": {
      "text/plain": [
       "(2.90625, -7.050628662109375)"
      ]
     },
     "execution_count": 41,
     "metadata": {},
     "output_type": "execute_result"
    }
   ],
   "source": [
    "algo(aa,bb,epss)"
   ]
  },
  {
   "cell_type": "markdown",
   "id": "a24f4362",
   "metadata": {},
   "source": [
    "# References"
   ]
  },
  {
   "cell_type": "markdown",
   "id": "9297af6e",
   "metadata": {},
   "source": [
    "1. Метод Ньютона (https://uk.wikipedia.org/wiki/%D0%9C%D0%B5%D1%82%D0%BE%D0%B4_%D0%9D%D1%8C%D1%8E%D1%82%D0%BE%D0%BD%D0%B0)"
   ]
  },
  {
   "cell_type": "markdown",
   "id": "54aa49ce",
   "metadata": {},
   "source": [
    "2. \"МЕТОДИЧНІ ВКАЗІВКИ ЩОДО ВИКОНАННЯ ПРАКТИЧНИХ РОБІТ І САМОСТІЙНОЇ РОБОТИ З НАВЧАЛЬНОЇ ДИСЦИПЛІНИ «АЛГОРИТМИ ТА МЕТОДИ ОБЧИСЛЕНЬ»\"  - к. т. н., доц. В. М. Сидоренко"
   ]
  }
 ],
 "metadata": {
  "kernelspec": {
   "display_name": "Python 3 (ipykernel)",
   "language": "python",
   "name": "python3"
  },
  "language_info": {
   "codemirror_mode": {
    "name": "ipython",
    "version": 3
   },
   "file_extension": ".py",
   "mimetype": "text/x-python",
   "name": "python",
   "nbconvert_exporter": "python",
   "pygments_lexer": "ipython3",
   "version": "3.9.12"
  }
 },
 "nbformat": 4,
 "nbformat_minor": 5
}
