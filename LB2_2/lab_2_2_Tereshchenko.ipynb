{
 "cells": [
  {
   "cell_type": "markdown",
   "id": "5b99fe25",
   "metadata": {},
   "source": [
    "### 10.12.22, &copy; [Daniil Tereshchenko](https://www.linkedin.com/in/daniil-tereshchenko/), 2022"
   ]
  },
  {
   "cell_type": "markdown",
   "id": "6d513ad8",
   "metadata": {},
   "source": [
    "# Лабораторна робота № 2. Нелінійна одновимірна безумовна оптимізація"
   ]
  },
  {
   "cell_type": "markdown",
   "id": "51fed8a8",
   "metadata": {},
   "source": [
    "**Мета:** Написати код мовою Python розв'язку задач нелінійної безумовної одновимірної оптимізації."
   ]
  },
  {
   "cell_type": "markdown",
   "id": "23dc47ac",
   "metadata": {},
   "source": [
    "# Хід роботи"
   ]
  },
  {
   "cell_type": "code",
   "execution_count": 1,
   "id": "047790a6",
   "metadata": {},
   "outputs": [],
   "source": [
    "import numpy as np\n",
    "import math"
   ]
  },
  {
   "cell_type": "markdown",
   "id": "8c046879",
   "metadata": {},
   "source": [
    "1.Реалізація на Python методу Ньютона:"
   ]
  },
  {
   "cell_type": "markdown",
   "id": "9cf61a34",
   "metadata": {},
   "source": [
    "$$x^2 - 2$$"
   ]
  },
  {
   "cell_type": "code",
   "execution_count": 2,
   "id": "36c58d93",
   "metadata": {},
   "outputs": [
    {
     "name": "stdout",
     "output_type": "stream",
     "text": [
      "newton_raphson = 1.4142857142857144\n",
      "sqrt(2) = 1.4142135623730951\n"
     ]
    }
   ],
   "source": [
    "f = lambda x: x**2 - 2\n",
    "f_prime = lambda x: 2*x\n",
    "newton_raphson = 1.4 - (f(1.4))/(f_prime(1.4))\n",
    "\n",
    "print(\"newton_raphson =\", newton_raphson)\n",
    "print(\"sqrt(2) =\", np.sqrt(2))"
   ]
  },
  {
   "cell_type": "markdown",
   "id": "a2696ea2",
   "metadata": {},
   "source": [
    "2.Реалізація на Python методу золотого перерізу:"
   ]
  },
  {
   "cell_type": "markdown",
   "id": "cb27e23c",
   "metadata": {},
   "source": [
    "$$4x - 1.8x^2 + 1.2x^3 - 0.3x^4$$"
   ]
  },
  {
   "cell_type": "code",
   "execution_count": 3,
   "id": "315456cf",
   "metadata": {},
   "outputs": [
    {
     "name": "stdout",
     "output_type": "stream",
     "text": [
      "Ea = 17.08203932499369 %\n",
      "Iteration 0: xL = 2\t xU = 3.23607\t x1 = 3.23607\t fx1 = 1.86099\t x2 = 2.76393\t fx2 = 5.13466\t d = 1.23607\t\n",
      "Ea = 11.803398874989481 %\n",
      "Iteration 1: xL = 2\t xU = 2.76393\t x1 = 2.76393\t fx1 = 5.13466\t x2 = 2.47214\t fx2 = 5.81297\t d = 0.76393\t\n",
      "Ea = 7.868932583326327 %\n",
      "Iteration 2: xL = 2\t xU = 2.47214\t x1 = 2.47214\t fx1 = 5.81297\t x2 = 2.2918\t fx2 = 5.88162\t d = 0.47214\t\n",
      "Ea = 4.863267791677183 %\n",
      "Iteration 3: xL = 2.18034\t xU = 2.47214\t x1 = 2.2918\t fx1 = 5.88162\t x2 = 2.18034\t fx2 = 5.82265\t d = 0.2918\t\n",
      "Ea = 3.005664791649142 %\n",
      "Iteration 4: xL = 2.18034\t xU = 2.36068\t x1 = 2.36068\t fx1 = 5.88154\t x2 = 2.2918\t fx2 = 5.88162\t d = 0.18034\t\n",
      "Ea = 1.8576030000280404 %\n",
      "Iteration 5: xL = 2.24922\t xU = 2.36068\t x1 = 2.2918\t fx1 = 5.88162\t x2 = 2.24922\t fx2 = 5.86722\t d = 0.11146\t\n",
      "Ea = 1.1350309351317744 %\n",
      "Iteration 6: xL = 2.2918\t xU = 2.36068\t x1 = 2.31811\t fx1 = 5.88513\t x2 = 2.2918\t fx2 = 5.88162\t d = 0.06888\t\n",
      "Ea = 0.696601125010514 %\n",
      "x = 2.3343685400050473, fx = 5.885135744935289\n"
     ]
    }
   ],
   "source": [
    "def cal_f(_x):\n",
    "    return 4 * _x - 1.8 * _x ** 2 + 1.2 * _x ** 3 - 0.3 * _x ** 4\n",
    "\n",
    "\n",
    "def cal_d(_xu, _xl):\n",
    "    return R * (_xu - _xl)\n",
    "\n",
    "\n",
    "def check_e(_xu, _xl, _xopt, _e):\n",
    "    _ea = (1 - R) * abs((_xu - _xl) / _xopt)\n",
    "    print(\"Ea = {} %\".format(_ea*100))\n",
    "    if _ea < _e:\n",
    "        return 1\n",
    "    return 0\n",
    "\n",
    "\n",
    "def search(_xu, _xl, _e, _n):\n",
    "    _x = [0, 0]\n",
    "    _f = [0, 0]\n",
    "    _result = 0\n",
    "    for i in range(0, _n):\n",
    "        _d = cal_d(_xu, _xl)\n",
    "        _x[0] = _xl + _d\n",
    "        _x[1] = _xu - _d\n",
    "        _f[0] = cal_f(_x[0])\n",
    "        _f[1] = cal_f(_x[1])\n",
    "        if _f[0] > _f[1]:\n",
    "            _xl = _x[1]\n",
    "            _result = _x[0]\n",
    "            if check_e(_xu, _xl, _x[0], _e):\n",
    "                break\n",
    "        else:\n",
    "            _xu = _x[0]\n",
    "            _result = _x[1]\n",
    "            if check_e(_xu, _xl, _x[1], _e):\n",
    "                break\n",
    "        if i % 1 == 0:\n",
    "            print(\"Iteration {}: xL = {}\\t xU = {}\\t x1 = {}\\t fx1 = {}\\t x2 = {}\\t fx2 = {}\\t d = {}\\t\"\n",
    "                  .format(i, round(_xl, 5), round(_xu, 5), round(_x[0], 5), round(_f[0], 5), round(_x[1], 5),\n",
    "                          round(_f[1], 5), round(_d, 5)))\n",
    "    return _result\n",
    "\n",
    "\n",
    "R = (math.sqrt(5) - 1) * 0.5\n",
    "xU = 4\n",
    "xL = 2\n",
    "eS = 1 / 100\n",
    "n = 100\n",
    "result = search(xU, xL, eS, n)\n",
    "print(\"x = {}, fx = {}\".format(result, cal_f(result)))"
   ]
  },
  {
   "cell_type": "markdown",
   "id": "4ee69863",
   "metadata": {},
   "source": [
    "# References"
   ]
  },
  {
   "cell_type": "markdown",
   "id": "3a34fa93",
   "metadata": {},
   "source": [
    "1.Метод Ньютона (https://uk.wikipedia.org/wiki/%D0%9C%D0%B5%D1%82%D0%BE%D0%B4_%D0%9D%D1%8C%D1%8E%D1%82%D0%BE%D0%BD%D0%B0)"
   ]
  },
  {
   "cell_type": "markdown",
   "id": "333dfc18",
   "metadata": {},
   "source": [
    "2.Метод золотого перерізу (http://surl.li/dyqce)"
   ]
  },
  {
   "cell_type": "markdown",
   "id": "214acb9d",
   "metadata": {},
   "source": [
    "3.Дякую за допомогу Barbir Vladislav"
   ]
  }
 ],
 "metadata": {
  "kernelspec": {
   "display_name": "Python 3 (ipykernel)",
   "language": "python",
   "name": "python3"
  },
  "language_info": {
   "codemirror_mode": {
    "name": "ipython",
    "version": 3
   },
   "file_extension": ".py",
   "mimetype": "text/x-python",
   "name": "python",
   "nbconvert_exporter": "python",
   "pygments_lexer": "ipython3",
   "version": "3.9.12"
  }
 },
 "nbformat": 4,
 "nbformat_minor": 5
}
