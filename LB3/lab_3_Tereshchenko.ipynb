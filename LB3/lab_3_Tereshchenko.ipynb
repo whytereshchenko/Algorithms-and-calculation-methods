{
 "cells": [
  {
   "cell_type": "markdown",
   "id": "d266d39d",
   "metadata": {},
   "source": [
    "#### 29.09.22, &copy; [Daniil Tereshchenko](https://www.linkedin.com/in/daniil-tereshchenko/), 2022"
   ]
  },
  {
   "cell_type": "markdown",
   "id": "44e154c8",
   "metadata": {},
   "source": [
    "# Лабораторна робота №3. Рекурсія. Стратегія \"розділяй і володарюй\". (short version)"
   ]
  },
  {
   "cell_type": "markdown",
   "id": "874ece15",
   "metadata": {},
   "source": [
    "### Мета. _Засвоїти технологію реалізації рекурсивних алгоритмів засобами Python і оцінку їх складності з використанням основної теореми рекурсії._ "
   ]
  },
  {
   "cell_type": "markdown",
   "id": "0f94e2db",
   "metadata": {},
   "source": [
    "### Короткі теоретичні відомості."
   ]
  },
  {
   "cell_type": "markdown",
   "id": "dd92ea81",
   "metadata": {},
   "source": [
    "Як визначити, який порядок складності буде мати рекурсивна функція, не проводячи обчислювальних експериментів?\n",
    "\n",
    "Рекурсія є розбиття задачі  на підзадачі з послідуючою консолідацією результата. \n",
    "\n",
    "Нехай:\n",
    "\n",
    "- $a$ - кількість підзадач\n",
    "\n",
    "- розмір кожної підзадачі зменшується в $b$ раз і стає рівним $[\\frac{n}{b}]$.\n",
    "\n",
    "- складність консолідаціїї нехай є $O(n^d)$.\n",
    "\n",
    "Час роботи такого алгоритму, виражений рекурентно, буде\n",
    "\n",
    "$T(n)=aT([\\frac{n}{b}])+O(n^d)$.\n",
    "\n",
    "__Теорема__. Нехай $T(n)=aT([\\frac{n}{b}])+O(n^d)$ для деяких $a>0, b>1,d\\ge0$, тоді \n",
    "\n",
    "$\\begin{equation*}\n",
    "F_n = \n",
    "\\begin{cases}\n",
    "O(n^d), &\\text{якщо $d>log_ba$,}\\\\\n",
    "O(n^dlogn), &\\text{якщо $d=log_ba$,}\\\\\n",
    "O(n^{log_ba}), &\\text{якщо $d<log_ba$.}\n",
    "\\end{cases}\n",
    "\\end{equation*}$"
   ]
  },
  {
   "cell_type": "markdown",
   "id": "fb531a1d",
   "metadata": {},
   "source": [
    "### Обчислення факторіалу."
   ]
  },
  {
   "cell_type": "markdown",
   "id": "a517bc8c",
   "metadata": {},
   "source": [
    "Обчислити факторіал: $$n!=n \\cdot (n-1) \\cdot (n-2) \\cdot ... \\cdot 1$$"
   ]
  },
  {
   "cell_type": "code",
   "execution_count": 2,
   "id": "46e96d96",
   "metadata": {},
   "outputs": [],
   "source": [
    "def FacSimple(n):\n",
    "\n",
    "    #Обчислення факторіала за допомогою  цикла while\n",
    "    \n",
    "    factorial = 1\n",
    "    i = 1 \n",
    "    \n",
    "    while i <= n:\n",
    "        factorial *= i\n",
    "        i += 1\n",
    "    \n",
    "    return factorial\n",
    "    "
   ]
  },
  {
   "cell_type": "code",
   "execution_count": 3,
   "id": "1f960253",
   "metadata": {},
   "outputs": [
    {
     "data": {
      "text/plain": [
       "120"
      ]
     },
     "execution_count": 3,
     "metadata": {},
     "output_type": "execute_result"
    }
   ],
   "source": [
    "FacSimple(5)"
   ]
  },
  {
   "cell_type": "markdown",
   "id": "adca7d87",
   "metadata": {},
   "source": [
    "__Завдання на самостійну роботу:__ Реалізувати процедуру обчислення факторіалу за допомогою цикла __for__. Оцінити асимптотичну складність алгоритму. Чи є вони рівні? Порівняти"
   ]
  },
  {
   "cell_type": "code",
   "execution_count": 1,
   "id": "8e168fe1",
   "metadata": {},
   "outputs": [
    {
     "name": "stdout",
     "output_type": "stream",
     "text": [
      "5\n",
      "120\n"
     ]
    }
   ],
   "source": [
    "n = int(input())\n",
    "\n",
    "factorial = 1\n",
    " \n",
    "for i in range(2, n+1):  # c1    n  \n",
    "    factorial *= i       # c2    n-1\n",
    " \n",
    "print(factorial)"
   ]
  },
  {
   "cell_type": "markdown",
   "id": "f7359561",
   "metadata": {},
   "source": [
    "#### Оцінити асимптотичну складність алгоритму"
   ]
  },
  {
   "cell_type": "markdown",
   "id": "06fbb5ec",
   "metadata": {},
   "source": [
    "$$\n",
    "T(n) = c_{1}n + c_{2}(n-1) = n(c_{1} + c_{2}) - c_{2}\n",
    "$$\n",
    "$$\n",
    "T(n)= cn-d\n",
    "$$\n",
    "$$\n",
    "n \\rightarrow \\infty\n",
    "$$ \n",
    "$O(n)$ - найкращий та найгірший випадки"
   ]
  },
  {
   "cell_type": "markdown",
   "id": "03eef93a",
   "metadata": {},
   "source": [
    "Пакет `math` мови `Python` має  функцію для обчислення факторіала: "
   ]
  },
  {
   "cell_type": "code",
   "execution_count": 7,
   "id": "b19de2a5",
   "metadata": {},
   "outputs": [
    {
     "data": {
      "text/plain": [
       "120"
      ]
     },
     "execution_count": 7,
     "metadata": {},
     "output_type": "execute_result"
    }
   ],
   "source": [
    "import math\n",
    "\n",
    "math.factorial(5)"
   ]
  },
  {
   "cell_type": "markdown",
   "id": "07d354a7",
   "metadata": {},
   "source": [
    "Обчислимо факторіал за допомогою рекурсії."
   ]
  },
  {
   "cell_type": "code",
   "execution_count": 5,
   "id": "a4f9ffe4",
   "metadata": {},
   "outputs": [],
   "source": [
    "def fac(n):\n",
    "    \n",
    "    # Обчислення факторіала через рекурсію\n",
    "    \n",
    "    if n == 0:\n",
    "        return(1)\n",
    "    return fac(n-1) * n"
   ]
  },
  {
   "cell_type": "code",
   "execution_count": 6,
   "id": "a290cf13",
   "metadata": {},
   "outputs": [
    {
     "name": "stdout",
     "output_type": "stream",
     "text": [
      "10\n"
     ]
    },
    {
     "data": {
      "text/plain": [
       "3628800"
      ]
     },
     "execution_count": 6,
     "metadata": {},
     "output_type": "execute_result"
    }
   ],
   "source": [
    "n = int(input())\n",
    "fac(n)"
   ]
  },
  {
   "cell_type": "markdown",
   "id": "52d38232",
   "metadata": {},
   "source": [
    "__Завдання на самостійну роботу:__ Оцінити асимптотичну складність рекурсивного алгоритму обчислення факторіалу."
   ]
  },
  {
   "cell_type": "markdown",
   "id": "14a4103f",
   "metadata": {},
   "source": [
    "$\\begin{equation*}\n",
    "F_n = \n",
    "\\begin{cases}\n",
    "1, &\\text{якщо $n=0$,}\\\\\n",
    "n * F_{n-1}, &\\text{якщо $n>1$,}\\\\\n",
    "\\end{cases} \\\\\n",
    "\\begin{cases}\n",
    "T(n) = T(n — 1) + 3\\\\\n",
    "T(0) = 1\n",
    "\\end{cases} \\\\\n",
    "\\begin{cases}\n",
    "T(n) = T(n-k) + 3k \\\\\n",
    "T(0) = 1 \\\\\n",
    "\\end{cases} \\\\\n",
    "n - k = 0, k = n \\\\\n",
    "T(n) = T(0) + 3n , k = n \\\\\n",
    "T(n) = 1 + 3n = O(n)\\\\\n",
    "\\end{equation*}$\n",
    "\n"
   ]
  },
  {
   "cell_type": "markdown",
   "id": "f6bfc86e",
   "metadata": {},
   "source": [
    "### Обчислення чисел Фібоначчі. "
   ]
  },
  {
   "cell_type": "code",
   "execution_count": 8,
   "id": "a7e7e6a3",
   "metadata": {},
   "outputs": [],
   "source": [
    "def fibonacci(n):\n",
    "    \n",
    "    #Рекурсивне обчислення n-го числа Фібоначчі\n",
    "    \n",
    "    if n == 0:\n",
    "        return 0\n",
    "    if n in (1, 2):\n",
    "        return 1\n",
    "    return fibonacci(n - 1) + fibonacci(n - 2)"
   ]
  },
  {
   "cell_type": "code",
   "execution_count": 9,
   "id": "7c16d8f9",
   "metadata": {},
   "outputs": [
    {
     "name": "stdout",
     "output_type": "stream",
     "text": [
      "832040\n"
     ]
    }
   ],
   "source": [
    "print(fibonacci(30))"
   ]
  },
  {
   "cell_type": "markdown",
   "id": "a764d923",
   "metadata": {},
   "source": [
    "__Завдання на самостійну роботу:__ Оцінити асимптотичну складність рекурсивного алгоритму обчислення $n$-го числа Фібоначчі."
   ]
  },
  {
   "cell_type": "markdown",
   "id": "aaf89297",
   "metadata": {},
   "source": [
    "$\\begin{equation*}\n",
    "F_n = \n",
    "\\begin{cases}\n",
    "0, &\\text{якщо $n=0$,}\\\\\n",
    "1, &\\text{якщо $n=1$,}\\\\\n",
    "F_{n-1}+F_{n-2}, &\\text{якщо $n>1$.}\n",
    "\\end{cases}\n",
    "\\end{equation*}$\n",
    "\n",
    "$T(n)=T(n-1)+T(n-2)<T(n-1)+T(n-1)=2^i*T(n-1)$\n",
    "\n",
    "$O(2^n)$ - найкращій випадок\n",
    "\n",
    "$O(2^\\frac{n}{2})$ - найгірший випадок"
   ]
  },
  {
   "cell_type": "markdown",
   "id": "b04f6ddd",
   "metadata": {},
   "source": [
    "### Сортування злиттям. "
   ]
  },
  {
   "cell_type": "markdown",
   "id": "dd900ef1",
   "metadata": {},
   "source": [
    "Метод декомпозиції, або метод (стратегія) \"розділяй і володарюй\".\n",
    "\n",
    "Як правило рекурсивні алгоритми мають розробляютися за допопомогою стратегії \"розділяй і володарюй\": складна задача розділяється на декілька простих, які подібні початковій задачі, але мають менший об'єм. Далі задачі розв'язуються рекурсивним методом з послідуючим комбінуванням розв'язків.\n",
    "\n",
    "Парадигма \"розділяй і володарюй\" на кожному рівні рекурсії містить три кроки:\n",
    "\n",
    "- _Поділ_ задачі на декілька підзадач.\n",
    "\n",
    "- _Володарювання_ над підзадачами шляхом їх рекурсивного розв'язку.\n",
    "\n",
    "- _Комбінування_ розв'язків підзадач у розв'язок початкової задачі.\n",
    "\n",
    "Алгоритм _сортування злиттям (merge sort)_ точно слідує парадигмі \"розділяй і володарюй\":\n",
    "\n",
    "- _Поділ._ Ділимо $n$-елементну послідовність на дві підпослідовності по $n/2$ елементів.\n",
    "\n",
    "- _Володарювання._ Рекурсивно сортуємо ці дві послідовності методом злиття.\n",
    "\n",
    "- _Комбінування._ Поєднуємо дві відсортовані підпослідовності для отримання остаточного відсортованого результату.\n",
    "\n",
    "![Приклад сортуванням злиттям](image\\Merge-sort-example-300px.gif)"
   ]
  },
  {
   "cell_type": "code",
   "execution_count": 10,
   "id": "a32b5186",
   "metadata": {},
   "outputs": [],
   "source": [
    "def merge(left, right):\n",
    "    \n",
    "    #Зливає два відсортованих масиви left і right у один\n",
    "    \n",
    "    result = []\n",
    "    i, j = 0, 0\n",
    "    while i < len(left) and j < len(right):\n",
    "        if left[i] <= right[j]:\n",
    "            result.append(left[i])\n",
    "            i += 1\n",
    "        else:\n",
    "            result.append(right[j])\n",
    "            j += 1\n",
    "    result += left[i:]\n",
    "    result += right[j:]\n",
    "    return result\n",
    "\n",
    "def mergesort(list):\n",
    "    \n",
    "    #Рекурсивна функція сортування з використанням попередньої функції\n",
    "    \n",
    "    if len(list) < 2:\n",
    "        return list\n",
    "    middle = len(list) // 2\n",
    "    left = mergesort(list[:middle])\n",
    "    right = mergesort(list[middle:])\n",
    "    return merge(left, right)"
   ]
  },
  {
   "cell_type": "code",
   "execution_count": 12,
   "id": "395b217e",
   "metadata": {},
   "outputs": [],
   "source": [
    "a = [6, 5, 3, 1, 8, 7, 2, 4]"
   ]
  },
  {
   "cell_type": "code",
   "execution_count": 13,
   "id": "4887473d",
   "metadata": {},
   "outputs": [
    {
     "data": {
      "text/plain": [
       "[1, 2, 2, 3, 4, 5, 6, 7]"
      ]
     },
     "execution_count": 13,
     "metadata": {},
     "output_type": "execute_result"
    }
   ],
   "source": [
    "merge([2, 4, 5, 7], [1, 2, 3, 6])"
   ]
  },
  {
   "cell_type": "code",
   "execution_count": 14,
   "id": "fcfed990",
   "metadata": {},
   "outputs": [
    {
     "data": {
      "text/plain": [
       "[1, 2, 3, 4, 5, 6, 7, 8]"
      ]
     },
     "execution_count": 14,
     "metadata": {},
     "output_type": "execute_result"
    }
   ],
   "source": [
    "mergesort(a)"
   ]
  },
  {
   "cell_type": "markdown",
   "id": "3a306dde",
   "metadata": {},
   "source": [
    "__Завдання на самостійну роботу__: Оцінити асимптотичну складність алгоритму сортуваннм злиттям, використовуючи основну теорему рекурсії."
   ]
  },
  {
   "cell_type": "markdown",
   "id": "50cd9e6c",
   "metadata": {},
   "source": [
    "$\\begin{equation*}\n",
    "T_n = \n",
    "\\begin{cases}\n",
    "Θ(1), &\\text{якщо n≤c,}\\\\\n",
    "aT(\\frac{n}{b})+D(n)+C(n), &\\text{інакше.}\\\\\n",
    "\\end{cases}\n",
    "\\end{equation*}$\n",
    "\n",
    "$\\begin{equation*}\n",
    "F_n = \n",
    "\\begin{cases}\n",
    "O(n^d), &\\text{якщо $d>log_ba$,}\\\\\n",
    "O(n^dlogn), &\\text{якщо $d=log_ba$,}\\\\\n",
    "O(n^{log_ba}), &\\text{якщо $d<log_ba$.}\n",
    "\\end{cases}\n",
    "\\end{equation*}$\n",
    "\n",
    "$a=b=2,d=1$\n",
    "\n",
    "$T(n)=Θ(nlogn).$ - час в найкращому та в найгіршому варіанті\n"
   ]
  },
  {
   "cell_type": "markdown",
   "id": "42f00cc4",
   "metadata": {},
   "source": [
    "### Контрольні запитання."
   ]
  },
  {
   "cell_type": "markdown",
   "id": "c4969978",
   "metadata": {},
   "source": [
    "1. Дати визначення складності задачі з символом $\\Omega$.\n",
    "\n",
    "Функція $f(N)$ має порядок $Ω(g(N))$, якщо $∃$ константи $c$ та $N0$, такі що $∀N>N_0$\n",
    "\n",
    "$f(N)≥cg(N)$\n",
    "\n",
    "$Ω(f(N))$ − клас функцій, обмежених знизу $cg(n)$\n",
    "\n",
    "\n",
    "2. Функція часової складності має вигляд: $F(N)=N^3+7N^2-14N$. Як записати аисмптотичну складність в нотації $O()$?\n",
    "\n",
    "$F(𝑁)=𝑁^3+7𝑁^2−14𝑁$ - прибираємо константи та обираємо більшу степінь\n",
    "\n",
    "$O(N^3)$\n",
    "\n",
    "3. Функція часової складності має вигляд: $F(N)=1.01^N+N^{10}$. Як записати аисмптотичну складність в нотації $O()$?\n",
    "\n",
    "$F(N)=1.01^N+N^{10}$ - гірше показникова, ніж степенева\n",
    "\n",
    "$O(1.01^N)$\n",
    "\n",
    "4. Функція часової складності має вигляд: $F(N)=N^{1.3}+10log_2N$. Як записати аисмптотичну складність в нотації $O()$?\n",
    "\n",
    "$F(N)=N^{1.3}+10log_2N$. - гірше степенева, ніж логарифмічна\n",
    "\n",
    "$O(N^{1.3})$\n",
    "\n",
    "5. У чому полягає ідея розпараллелювання обчислень і для чого вона використовується? Які з алгоритмів, наведених у даній лаораторній роботі дозволяють можливість розпаралелювання?\n",
    "\n",
    "Паралельні обчислення — це форма обчислень, в яких кілька дій проводяться одночасно. Ґрунтуються на тому, що великі задачі можна розділити на кілька менших, кожну з яких можна розв'язати незалежно від інших. Сортування методом злиття дає можливість розпаралелювання.\n",
    "\n",
    "6. Які існують шляхи підвищення обчислювальної швидкості алгоритмів? Який з них є найбільш ефективним?\n",
    "\n",
    "Існує багато шляхів вимірювання використовуваних алгоритмом ресурсів. Два найбільш використовуваних вимірювання — швидкість і використовувана пам'ять. Інші вимірювання можуть включати швидкість, тимчасове використання диска, тривале використання диска, споживання енергії, сукупна вартість володіння, час відгуку на зовнішні сигнали тощо. Багато з цих вимірювань залежать від обсягу вхідних даних алгоритму (тобто від кількостей даних, що вимагають обробки). Вимірювання можуть також залежати від того, як подані дані (наприклад, деякі алгоритми сортування погано працюють на вже відсортованих даних або коли дані відсортовані в зворотному порядку).На практиці існують й інші чинники, що впливають на ефективність алгоритму, такі як необхідна точність або надійність."
   ]
  },
  {
   "cell_type": "markdown",
   "id": "7e0ecae8",
   "metadata": {},
   "source": [
    "### References"
   ]
  },
  {
   "cell_type": "markdown",
   "id": "13a7bed7",
   "metadata": {},
   "source": [
    "1. [Ефективність алгоритмів](https://uk.wikipedia.org/wiki/Ефективність_алгоритму)\n",
    "2. [Паралельні обчислення](https://uk.wikipedia.org/wiki/Паралельні_обчислення)\n",
    "3. Vladyslav Barbir (no link)"
   ]
  }
 ],
 "metadata": {
  "kernelspec": {
   "display_name": "Python 3 (ipykernel)",
   "language": "python",
   "name": "python3"
  },
  "language_info": {
   "codemirror_mode": {
    "name": "ipython",
    "version": 3
   },
   "file_extension": ".py",
   "mimetype": "text/x-python",
   "name": "python",
   "nbconvert_exporter": "python",
   "pygments_lexer": "ipython3",
   "version": "3.9.12"
  }
 },
 "nbformat": 4,
 "nbformat_minor": 5
}
