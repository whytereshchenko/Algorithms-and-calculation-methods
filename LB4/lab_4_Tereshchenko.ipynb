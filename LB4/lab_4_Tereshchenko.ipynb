{
 "cells": [
  {
   "cell_type": "markdown",
   "id": "caa8a46b",
   "metadata": {
    "pycharm": {
     "name": "#%% md\n"
    }
   },
   "source": [
    "#### 29.09.22, &copy; [Daniil Tereshchenko](https://www.linkedin.com/in/daniil-tereshchenko/), 2022"
   ]
  },
  {
   "cell_type": "markdown",
   "id": "93aaf9d0",
   "metadata": {
    "pycharm": {
     "name": "#%% md\n"
    }
   },
   "source": [
    "# Лабораторна робота №4. Алгоритми пошуку. Стратегія \"грубої сили\". (short version)"
   ]
  },
  {
   "cell_type": "markdown",
   "id": "4a1c7469",
   "metadata": {
    "pycharm": {
     "name": "#%% md\n"
    }
   },
   "source": [
    "### Мета. _Засвоїти варіанти реалізації алгоритмів пошуку засобами Python і методи оцінки їх складності._ "
   ]
  },
  {
   "cell_type": "markdown",
   "id": "b983c92e",
   "metadata": {
    "pycharm": {
     "name": "#%% md\n"
    }
   },
   "source": [
    "### Лінійний пошук. Стратегія \"грубої сили\""
   ]
  },
  {
   "cell_type": "markdown",
   "id": "0ca87a86",
   "metadata": {
    "pycharm": {
     "name": "#%% md\n"
    }
   },
   "source": [
    "Одним з найпростіших алгоритмів пошуку є [_лінійний пошук_](https://uk.wikipedia.org/wiki/%D0%9B%D1%96%D0%BD%D1%96%D0%B9%D0%BD%D0%B8%D0%B9_%D0%BF%D0%BE%D1%88%D1%83%D0%BA). Сенс алгоритму полягає в тому, що пошук починають з першого елементу масива. Якщо поточний елемент списку не дорівнює шуканому значенню, то здійснюється перехід до наступного елементу. Таким чином, у результаті кожної перевірки область пошуку зменшується на один елемент.  \n",
    "\n",
    "Лінійний пошук також відомий, як _метод перебору_ або \"грубої сили\". Працює за час $O(n)$, де $n$ -- довжина списку на вході."
   ]
  },
  {
   "cell_type": "markdown",
   "id": "8f80e704",
   "metadata": {
    "pycharm": {
     "name": "#%% md\n"
    }
   },
   "source": [
    "__Завдання на самостійну роботу:__ Оцінити асимптотичну складність алгоритму лінійного пошуку у $О$-нотації."
   ]
  },
  {
   "cell_type": "markdown",
   "id": "b525dc60",
   "metadata": {
    "pycharm": {
     "name": "#%% md\n"
    }
   },
   "source": [
    "Розглянемо the worst випадок, коли шуканий елемент знаходиться в кінці вхідного масиву"
   ]
  },
  {
   "cell_type": "code",
   "execution_count": 19,
   "id": "1529e516",
   "metadata": {
    "pycharm": {
     "name": "#%%\n"
    }
   },
   "outputs": [],
   "source": [
    "def linear_search(a_list, x):\n",
    "    i, length = 0, len(a_list)              # | c1 | 1\n",
    "    while i < length and x != a_list[i]:    # | c2 | n\n",
    "        i += 1                              # | c3 | n - 1\n",
    "    return i if i < length else -1          # | c4 | 1\n"
   ]
  },
  {
   "cell_type": "markdown",
   "id": "b77633b6",
   "metadata": {
    "pycharm": {
     "name": "#%% md\n"
    }
   },
   "source": [
    "$$\n",
    "T_{worst}(n) = c_{1} + c_{2}n + c_{3}(n-1) + c_{4}\n",
    "$$\n",
    "\n",
    "$$\n",
    "T_{worst}(n) = n(c_{2} + c_{3}) - c_{3} + c_{1} + c_{4}\n",
    "$$"
   ]
  },
  {
   "cell_type": "markdown",
   "id": "08ad468b",
   "metadata": {
    "pycharm": {
     "name": "#%% md\n"
    }
   },
   "source": [
    "Тепер функція $T(n)$ - лінійна, тобто має вид $T(n) = an + b$. (Константи $a$ і $b$ визначаються значеннями $c_{1}-c_{4}$.)"
   ]
  },
  {
   "cell_type": "markdown",
   "id": "49e575ae",
   "metadata": {
    "pycharm": {
     "name": "#%% md\n"
    }
   },
   "source": [
    "\n",
    "### Пошук у відсортованому масиві. Бінарний пошук "
   ]
  },
  {
   "cell_type": "markdown",
   "id": "c551665e",
   "metadata": {
    "pycharm": {
     "name": "#%% md\n"
    }
   },
   "source": [
    "Це класичний алгоритм пошуку елемента у відсортованому списку, який використовує дроблення масиву на половини. Алгоритм можна реалізувати рекурсивно. Нижче наведено [реалізацію](https://github.com/yorko/python_intro) для відсортованих списків без повторюваних елементів. Складність алгоритму - $O(log(n))$, де $n$ - довжина списку на вході.\n",
    "\n",
    "_[Алгоритм](https://younglinux.info/algorithm/dichotomy) полягає у наступному._\n",
    "\n",
    "1. Знаходиться середній елемент послідовності. Для цього перший і останній індекси зв'язуються зі змінними, а індекс середнього елемента обчислюється.  \n",
    "\n",
    "2. Значення середнього елемента порівнюється з шуканим значенням. Залежно від того, більше воно чи менше значення середнього елемента, подальший пошук буде відбуватися тільки в лівій або тільки в правій половинах масиву. Якщо значення середнього елемента виявляється рівним шуканому, пошук завершується.  \n",
    "\n",
    "3. Інакше одна з меж досліджуваної послідовності зсувається. Якщо шукане значення більше значення середнього елемента, то нижня межа зсувається за середній елемент на один елемент праворуч. Якщо шукане значення менше значення середнього елемента, то верхня межа зсувається на елемент перед середнім.\n",
    "\n",
    "4. Знову знаходиться середній елемент тепер уже в обраній половині. Описаний вище алгоритм повторюється для даного зрізу."
   ]
  },
  {
   "cell_type": "markdown",
   "id": "a48a0ecc",
   "metadata": {
    "pycharm": {
     "name": "#%% md\n"
    }
   },
   "source": [
    "__Завдання на самостійну роботу__:"
   ]
  },
  {
   "cell_type": "markdown",
   "id": "9b26325b",
   "metadata": {
    "pycharm": {
     "name": "#%% md\n"
    }
   },
   "source": [
    "### 1\n",
    "Оцінити асимптотичну складність алгоритму бінарного пошуку пошуку у $О$-нотації."
   ]
  },
  {
   "cell_type": "code",
   "execution_count": 89,
   "id": "9b0a2be3",
   "metadata": {
    "pycharm": {
     "name": "#%%\n"
    }
   },
   "outputs": [],
   "source": [
    "def bin_search(a_list, x, left, right):\n",
    "    if left > right or len(a_list) == 0:                 \n",
    "        return -1                                        \n",
    "    middle = (left + right) // 2                           \n",
    "    if a_list[middle] == x:                               \n",
    "        return middle                                     \n",
    "    elif (a_list[middle] < x):                            \n",
    "        return bin_search(a_list, x, middle + 1, right)    \n",
    "    else:                                                 \n",
    "        return bin_search(a_list, x, left, middle - 1)    "
   ]
  },
  {
   "cell_type": "markdown",
   "id": "5d3d13c9",
   "metadata": {
    "pycharm": {
     "name": "#%% md\n"
    }
   },
   "source": [
    "$$\n",
    "T_{worst}(n) = T(n/2) + O(1) = O(1) * lgn = O(lgn)\n",
    "$$"
   ]
  },
  {
   "cell_type": "code",
   "execution_count": 90,
   "id": "82a81acb",
   "metadata": {
    "pycharm": {
     "name": "#%%\n"
    }
   },
   "outputs": [],
   "source": [
    "import pandas as pd\n",
    "import random\n",
    "from random import choice\n",
    "import time \n",
    "import matplotlib.pyplot as plt\n",
    "import math"
   ]
  },
  {
   "cell_type": "code",
   "execution_count": 91,
   "id": "1f763f05",
   "metadata": {},
   "outputs": [],
   "source": [
    "n=[5000,10000,50000,100000,200000,300000,400000,500000,750000,1000000,2000000,5000000,10000000]"
   ]
  },
  {
   "cell_type": "code",
   "execution_count": 92,
   "id": "91db057d",
   "metadata": {
    "pycharm": {
     "name": "#%%\n"
    }
   },
   "outputs": [],
   "source": [
    "#n = [50000,75000,100000,150000,200000,300000,500000]\n",
    "#n = [2,3,4,5,6,7]\n",
    "n = []\n",
    "n.append(243)\n",
    "q = 2\n",
    "for i in range(1,15):\n",
    "    n.append(n[i-1]*q)"
   ]
  },
  {
   "cell_type": "code",
   "execution_count": 93,
   "id": "9dc7f2df",
   "metadata": {},
   "outputs": [],
   "source": [
    "size = len(n)"
   ]
  },
  {
   "cell_type": "code",
   "execution_count": 94,
   "id": "eb37d3af",
   "metadata": {
    "pycharm": {
     "name": "#%%\n"
    }
   },
   "outputs": [],
   "source": [
    "random_lists = []\n",
    "keys = []\n",
    "\n",
    "for y in range(0, size):\n",
    "    random_lists.append(\n",
    "        random.sample(range(1, n[y]+1), n[y])\n",
    "    )\n",
    "    #random_keys.append(random.sample(range(int(len(random_lists[y])/2), len(random_lists[y])), 1))\n",
    "    (random_lists[y]).sort()\n",
    "    keys.append(choice(random_lists[y]))\n",
    "        #random_lists[y][(len(random_lists[y]))-1]"
   ]
  },
  {
   "cell_type": "markdown",
   "id": "a61da178",
   "metadata": {
    "pycharm": {
     "name": "#%% md\n"
    }
   },
   "source": [
    "### 2\n",
    "Написати функцію, яка б могла повертати датафрейм з наступним складом полів: (\"n\", \"time\"), де `n` -- розмір масиву для функції `linear_searh();"
   ]
  },
  {
   "cell_type": "code",
   "execution_count": 95,
   "id": "a57a2660",
   "metadata": {
    "pycharm": {
     "name": "#%%\n"
    }
   },
   "outputs": [
    {
     "data": {
      "text/html": [
       "<div>\n",
       "<style scoped>\n",
       "    .dataframe tbody tr th:only-of-type {\n",
       "        vertical-align: middle;\n",
       "    }\n",
       "\n",
       "    .dataframe tbody tr th {\n",
       "        vertical-align: top;\n",
       "    }\n",
       "\n",
       "    .dataframe thead th {\n",
       "        text-align: right;\n",
       "    }\n",
       "</style>\n",
       "<table border=\"1\" class=\"dataframe\">\n",
       "  <thead>\n",
       "    <tr style=\"text-align: right;\">\n",
       "      <th></th>\n",
       "      <th>n</th>\n",
       "      <th>time</th>\n",
       "    </tr>\n",
       "  </thead>\n",
       "  <tbody>\n",
       "    <tr>\n",
       "      <th>0</th>\n",
       "      <td>243</td>\n",
       "      <td>0.000004</td>\n",
       "    </tr>\n",
       "    <tr>\n",
       "      <th>1</th>\n",
       "      <td>486</td>\n",
       "      <td>0.000014</td>\n",
       "    </tr>\n",
       "    <tr>\n",
       "      <th>2</th>\n",
       "      <td>972</td>\n",
       "      <td>0.000047</td>\n",
       "    </tr>\n",
       "    <tr>\n",
       "      <th>3</th>\n",
       "      <td>1944</td>\n",
       "      <td>0.000026</td>\n",
       "    </tr>\n",
       "    <tr>\n",
       "      <th>4</th>\n",
       "      <td>3888</td>\n",
       "      <td>0.000043</td>\n",
       "    </tr>\n",
       "    <tr>\n",
       "      <th>5</th>\n",
       "      <td>7776</td>\n",
       "      <td>0.000109</td>\n",
       "    </tr>\n",
       "    <tr>\n",
       "      <th>6</th>\n",
       "      <td>15552</td>\n",
       "      <td>0.000890</td>\n",
       "    </tr>\n",
       "    <tr>\n",
       "      <th>7</th>\n",
       "      <td>31104</td>\n",
       "      <td>0.002121</td>\n",
       "    </tr>\n",
       "    <tr>\n",
       "      <th>8</th>\n",
       "      <td>62208</td>\n",
       "      <td>0.005407</td>\n",
       "    </tr>\n",
       "    <tr>\n",
       "      <th>9</th>\n",
       "      <td>124416</td>\n",
       "      <td>0.003402</td>\n",
       "    </tr>\n",
       "    <tr>\n",
       "      <th>10</th>\n",
       "      <td>248832</td>\n",
       "      <td>0.002298</td>\n",
       "    </tr>\n",
       "    <tr>\n",
       "      <th>11</th>\n",
       "      <td>497664</td>\n",
       "      <td>0.001669</td>\n",
       "    </tr>\n",
       "    <tr>\n",
       "      <th>12</th>\n",
       "      <td>995328</td>\n",
       "      <td>0.008649</td>\n",
       "    </tr>\n",
       "    <tr>\n",
       "      <th>13</th>\n",
       "      <td>1990656</td>\n",
       "      <td>0.002777</td>\n",
       "    </tr>\n",
       "    <tr>\n",
       "      <th>14</th>\n",
       "      <td>3981312</td>\n",
       "      <td>0.283202</td>\n",
       "    </tr>\n",
       "  </tbody>\n",
       "</table>\n",
       "</div>"
      ],
      "text/plain": [
       "          n      time\n",
       "0       243  0.000004\n",
       "1       486  0.000014\n",
       "2       972  0.000047\n",
       "3      1944  0.000026\n",
       "4      3888  0.000043\n",
       "5      7776  0.000109\n",
       "6     15552  0.000890\n",
       "7     31104  0.002121\n",
       "8     62208  0.005407\n",
       "9    124416  0.003402\n",
       "10   248832  0.002298\n",
       "11   497664  0.001669\n",
       "12   995328  0.008649\n",
       "13  1990656  0.002777\n",
       "14  3981312  0.283202"
      ]
     },
     "execution_count": 95,
     "metadata": {},
     "output_type": "execute_result"
    }
   ],
   "source": [
    "linear_time = []\n",
    "for ite in range(0, len(n)):\n",
    "    start_time = time.time()\n",
    "    linear_search(random_lists[ite], keys[ite])\n",
    "    linear_time.append(time.time() - start_time)\n",
    "    \n",
    "raw_datal = {'n': n, 'time': linear_time}\n",
    "dfl = pd.DataFrame(data = raw_datal)\n",
    "dfl"
   ]
  },
  {
   "cell_type": "markdown",
   "id": "586c0eee",
   "metadata": {
    "pycharm": {
     "name": "#%% md\n"
    }
   },
   "source": [
    "### 3\n",
    "написати функцію, яка б могла повертати датафрейм з наступним складом полів: (\"n\", \"time\"), де `n` -- розмір масиву для функції `bin_searh();"
   ]
  },
  {
   "cell_type": "code",
   "execution_count": 96,
   "id": "a16e6e18",
   "metadata": {
    "pycharm": {
     "name": "#%%\n"
    },
    "scrolled": false
   },
   "outputs": [
    {
     "data": {
      "text/html": [
       "<div>\n",
       "<style scoped>\n",
       "    .dataframe tbody tr th:only-of-type {\n",
       "        vertical-align: middle;\n",
       "    }\n",
       "\n",
       "    .dataframe tbody tr th {\n",
       "        vertical-align: top;\n",
       "    }\n",
       "\n",
       "    .dataframe thead th {\n",
       "        text-align: right;\n",
       "    }\n",
       "</style>\n",
       "<table border=\"1\" class=\"dataframe\">\n",
       "  <thead>\n",
       "    <tr style=\"text-align: right;\">\n",
       "      <th></th>\n",
       "      <th>n</th>\n",
       "      <th>time</th>\n",
       "    </tr>\n",
       "  </thead>\n",
       "  <tbody>\n",
       "    <tr>\n",
       "      <th>0</th>\n",
       "      <td>243</td>\n",
       "      <td>0.000004</td>\n",
       "    </tr>\n",
       "    <tr>\n",
       "      <th>1</th>\n",
       "      <td>486</td>\n",
       "      <td>0.000005</td>\n",
       "    </tr>\n",
       "    <tr>\n",
       "      <th>2</th>\n",
       "      <td>972</td>\n",
       "      <td>0.000005</td>\n",
       "    </tr>\n",
       "    <tr>\n",
       "      <th>3</th>\n",
       "      <td>1944</td>\n",
       "      <td>0.000007</td>\n",
       "    </tr>\n",
       "    <tr>\n",
       "      <th>4</th>\n",
       "      <td>3888</td>\n",
       "      <td>0.000005</td>\n",
       "    </tr>\n",
       "    <tr>\n",
       "      <th>5</th>\n",
       "      <td>7776</td>\n",
       "      <td>0.000006</td>\n",
       "    </tr>\n",
       "    <tr>\n",
       "      <th>6</th>\n",
       "      <td>15552</td>\n",
       "      <td>0.000006</td>\n",
       "    </tr>\n",
       "    <tr>\n",
       "      <th>7</th>\n",
       "      <td>31104</td>\n",
       "      <td>0.000014</td>\n",
       "    </tr>\n",
       "    <tr>\n",
       "      <th>8</th>\n",
       "      <td>62208</td>\n",
       "      <td>0.000010</td>\n",
       "    </tr>\n",
       "    <tr>\n",
       "      <th>9</th>\n",
       "      <td>124416</td>\n",
       "      <td>0.000009</td>\n",
       "    </tr>\n",
       "    <tr>\n",
       "      <th>10</th>\n",
       "      <td>248832</td>\n",
       "      <td>0.000010</td>\n",
       "    </tr>\n",
       "    <tr>\n",
       "      <th>11</th>\n",
       "      <td>497664</td>\n",
       "      <td>0.000010</td>\n",
       "    </tr>\n",
       "    <tr>\n",
       "      <th>12</th>\n",
       "      <td>995328</td>\n",
       "      <td>0.000012</td>\n",
       "    </tr>\n",
       "    <tr>\n",
       "      <th>13</th>\n",
       "      <td>1990656</td>\n",
       "      <td>0.000013</td>\n",
       "    </tr>\n",
       "    <tr>\n",
       "      <th>14</th>\n",
       "      <td>3981312</td>\n",
       "      <td>0.000011</td>\n",
       "    </tr>\n",
       "  </tbody>\n",
       "</table>\n",
       "</div>"
      ],
      "text/plain": [
       "          n      time\n",
       "0       243  0.000004\n",
       "1       486  0.000005\n",
       "2       972  0.000005\n",
       "3      1944  0.000007\n",
       "4      3888  0.000005\n",
       "5      7776  0.000006\n",
       "6     15552  0.000006\n",
       "7     31104  0.000014\n",
       "8     62208  0.000010\n",
       "9    124416  0.000009\n",
       "10   248832  0.000010\n",
       "11   497664  0.000010\n",
       "12   995328  0.000012\n",
       "13  1990656  0.000013\n",
       "14  3981312  0.000011"
      ]
     },
     "execution_count": 96,
     "metadata": {},
     "output_type": "execute_result"
    }
   ],
   "source": [
    "binary_time = []\n",
    "for ite in range(0, len(n)):\n",
    "    start_time2 = time.time()\n",
    "    bin_search(random_lists[ite], keys[ite], 0, len(random_lists[ite])-1)\n",
    "    binary_time.append((time.time() - start_time2))\n",
    "    \n",
    "raw_data2 = {'n': n, 'time': binary_time}\n",
    "dfb = pd.DataFrame(data = raw_data2)\n",
    "dfb"
   ]
  },
  {
   "cell_type": "markdown",
   "id": "0a95cca7",
   "metadata": {
    "pycharm": {
     "name": "#%% md\n"
    }
   },
   "source": [
    "#### 4\n",
    "за результатами попередніх завдань побудувати графіки залежності часу виконання процедури пошуку від розміру масиву. Приклад побудови графіків у середовищі `Ipython` можна подивитися [тут](https://devpractice.ru/python-lesson-6-work-in-jupyter-notebook/).  "
   ]
  },
  {
   "cell_type": "code",
   "execution_count": 97,
   "id": "fd9d4747",
   "metadata": {
    "pycharm": {
     "name": "#%%\n"
    }
   },
   "outputs": [],
   "source": [
    "plt.style.use('ggplot')"
   ]
  },
  {
   "cell_type": "code",
   "execution_count": 98,
   "id": "9ac18f63",
   "metadata": {
    "pycharm": {
     "name": "#%%\n"
    },
    "scrolled": false
   },
   "outputs": [
    {
     "data": {
      "text/plain": [
       "<AxesSubplot:xlabel='n'>"
      ]
     },
     "execution_count": 98,
     "metadata": {},
     "output_type": "execute_result"
    },
    {
     "data": {
      "image/png": "[encoded data removed]",
      "text/plain": [
       "<Figure size 432x288 with 1 Axes>"
      ]
     },
     "metadata": {},
     "output_type": "display_data"
    }
   ],
   "source": [
    "dfl.plot('n','time', color='r', label='linear', kind='line')"
   ]
  },
  {
   "cell_type": "code",
   "execution_count": 99,
   "id": "1896bdd7",
   "metadata": {
    "scrolled": false
   },
   "outputs": [
    {
     "data": {
      "text/plain": [
       "<AxesSubplot:xlabel='n'>"
      ]
     },
     "execution_count": 99,
     "metadata": {},
     "output_type": "execute_result"
    },
    {
     "data": {
      "image/png": "[encoded data removed]",
      "text/plain": [
       "<Figure size 432x288 with 1 Axes>"
      ]
     },
     "metadata": {},
     "output_type": "display_data"
    }
   ],
   "source": [
    "dfb.plot('n','time', color='b', label='binary', kind='line')"
   ]
  },
  {
   "cell_type": "code",
   "execution_count": 100,
   "id": "0ac5222f",
   "metadata": {},
   "outputs": [
    {
     "data": {
      "text/plain": [
       "[<matplotlib.lines.Line2D at 0x7facf000c490>]"
      ]
     },
     "execution_count": 100,
     "metadata": {},
     "output_type": "execute_result"
    },
    {
     "data": {
      "image/png": "[encoded data removed]",
      "text/plain": [
       "<Figure size 432x288 with 1 Axes>"
      ]
     },
     "metadata": {},
     "output_type": "display_data"
    }
   ],
   "source": [
    "plt.plot(n,linear_time, color='r')\n",
    "plt.plot(n,binary_time, color='b')"
   ]
  },
  {
   "cell_type": "markdown",
   "id": "cfc248b6",
   "metadata": {
    "pycharm": {
     "name": "#%% md\n"
    }
   },
   "source": [
    "#### 5\n",
    "оцінити, який з двох алгоритмів є більш ефективним та в якому діапазоні розміру задачі."
   ]
  },
  {
   "cell_type": "code",
   "execution_count": 70,
   "id": "80a7fcc2",
   "metadata": {},
   "outputs": [
    {
     "data": {
      "text/plain": [
       "[<matplotlib.lines.Line2D at 0x7fad520f3cd0>]"
      ]
     },
     "execution_count": 70,
     "metadata": {},
     "output_type": "execute_result"
    },
    {
     "data": {
      "image/png": "[encoded data removed]",
      "text/plain": [
       "<Figure size 432x288 with 1 Axes>"
      ]
     },
     "metadata": {},
     "output_type": "display_data"
    }
   ],
   "source": [
    "plt.plot(n,linear_time, color='r')\n",
    "plt.plot(n,binary_time, color='b')"
   ]
  },
  {
   "cell_type": "markdown",
   "id": "50a3d425",
   "metadata": {
    "pycharm": {
     "name": "#%%\n"
    }
   },
   "source": [
    "Як бачимо на графіку, завжди ефективнішим за $O(n)$ буде алгоритм який працює за $O(logn)$"
   ]
  },
  {
   "cell_type": "markdown",
   "id": "662cea1f",
   "metadata": {
    "pycharm": {
     "name": "#%% md\n"
    }
   },
   "source": [
    "### Завдання на лабораторну роботу.\n",
    "1. Створити Notebook-документ за допомогою Jupyter Notebook. (Див. [тут](https://devpractice.ru/python-lesson-1-install/), [тут](https://devpractice.ru/python-lesson-6-work-in-jupyter-notebook/) і [тут](https://jupyter-notebook.readthedocs.io/en/stable/notebook.html)) і  реалізувати контрольні приклади, що розглядаються у даній роботі та виконати завдання, що винесено на самостійну роботу.\n",
    "\n",
    "1. Дати відповіді на контрольні запитання.\n",
    "\n",
    "1. Робочий документ оформити у вигляді Notebook-документу (файл __.ipynb__).\n",
    "\n",
    "1. Скомпілювати звіт у форматі __.html__. Для цього необхідно завантажити термінал і у командному рядку запустити наступну команду:\n",
    "\n",
    "`jupyter nbconvert lab_4_StudentLasName.ipynb --to html`\n",
    "\n",
    "1. Представити звіт у вигляді архіву. Проект має складатися мінімум з двох файлів: `lab_4_StudentLasName.ipynb` та `lab_4_StudentLasName.html`"
   ]
  },
  {
   "cell_type": "markdown",
   "id": "b2d70246",
   "metadata": {
    "pycharm": {
     "name": "#%% md\n"
    }
   },
   "source": [
    "### Контрольні запитання.\n",
    "1. Дати визначення складності задачі з символом $\\Omega$.\n",
    "Функція $f(N)$ має порядок $Ω(g(N))$, якщо $∃$ константи $c$ та $N0$, такі що $∀N>N_0$\n",
    "\n",
    "$f(N)≥cg(N)$\n",
    "\n",
    "$Ω(f(N))$ − клас функцій, обмежених знизу $cg(n)$\n",
    "\n",
    "2. Функція часової складності має вигляд: $F(N)=N^3+7N^2-14N$. Як записати асимптотичну складність в нотації $O()$?\n",
    " $O(N^3)$\n",
    "\n",
    "3. Функція часової складності має вигляд: $F(N)=1.01^N+N^{10}$. Як записати аисмптотичну складність в нотації $O()$?\n",
    " $O(N^{10})$\n",
    "\n",
    "4. Функція часової складності має вигляд: $F(N)=N^{1.3}+10log_2N$. Як записати аисмптотичну складність в нотації $O()$?\n",
    " $O(log_2N)$\n",
    " \n",
    "5. У чому полягає ідея розпараллелювання обчислень і для чого вона використовується? Які з алгоритмів, наведених у даній лаораторній роботі дозволяють можливість розпаралелювання?\n",
    "Паралельні обчислення — це форма обчислень, в яких кілька дій проводяться одночасно. Ґрунтуються на тому, що великі задачі можна розділити на кілька менших, кожну з яких можна розв'язати незалежно від інших. Бінарний пошук дає можливість розпаралелювання.\n",
    "\n",
    "6. Які існують шляхи підвищення обчислювальної швидкості алгоритмів? Який з них є найбільш ефективним?\n",
    "Існує багато шляхів вимірювання використовуваних алгоритмом ресурсів. Два найбільш використовуваних вимірювання — швидкість і використовувана пам'ять. Інші вимірювання можуть включати швидкість, тимчасове використання диска, тривале використання диска, споживання енергії, сукупна вартість володіння, час відгуку на зовнішні сигнали тощо. Багато з цих вимірювань залежать від обсягу вхідних даних алгоритму (тобто від кількостей даних, що вимагають обробки). Вимірювання можуть також залежати від того, як подані дані (наприклад, деякі алгоритми сортування погано працюють на вже відсортованих даних або коли дані відсортовані в зворотному порядку).На практиці існують й інші чинники, що впливають на ефективність алгоритму, такі як необхідна точність або надійність."
   ]
  },
  {
   "cell_type": "markdown",
   "id": "77c72184",
   "metadata": {},
   "source": [
    "# References"
   ]
  },
  {
   "cell_type": "markdown",
   "id": "0e839252",
   "metadata": {},
   "source": [
    "1.Лінійний пошук(http://kytok.org.ua/post/alhorytm-linijnoho-poshuku)"
   ]
  },
  {
   "cell_type": "markdown",
   "id": "d58b122b",
   "metadata": {},
   "source": [
    "2.Бінарний пошук(http://surl.li/cestb)"
   ]
  },
  {
   "cell_type": "markdown",
   "id": "0ba9bd13",
   "metadata": {},
   "source": [
    "3.Ефективність алгоритмів(https://uk.wikipedia.org/wiki/Ефективність_алгоритму)."
   ]
  }
 ],
 "metadata": {
  "kernelspec": {
   "display_name": "Python 3 (ipykernel)",
   "language": "python",
   "name": "python3"
  },
  "language_info": {
   "codemirror_mode": {
    "name": "ipython",
    "version": 3
   },
   "file_extension": ".py",
   "mimetype": "text/x-python",
   "name": "python",
   "nbconvert_exporter": "python",
   "pygments_lexer": "ipython3",
   "version": "3.9.12"
  }
 },
 "nbformat": 4,
 "nbformat_minor": 5
}
