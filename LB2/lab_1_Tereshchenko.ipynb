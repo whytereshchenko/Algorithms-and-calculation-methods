{
 "cells": [
  {
   "cell_type": "markdown",
   "id": "0cfec002",
   "metadata": {
    "pycharm": {
     "name": "#%% md\n"
    }
   },
   "source": [
    "#### 29.09.22, &copy; [Daniil Tereshchenko](https://www.linkedin.com/in/daniil-tereshchenko/), 2022"
   ]
  },
  {
   "cell_type": "markdown",
   "id": "e858b396",
   "metadata": {
    "pycharm": {
     "name": "#%% md\n"
    }
   },
   "source": [
    "# Лабораторна робота №1. Робота в середовищі Anaconda"
   ]
  },
  {
   "cell_type": "markdown",
   "id": "acb071db",
   "metadata": {},
   "source": [
    "__Мета:__ _quick start для роботи в середовищі Anaconda із застосуванням Jupyter Notebook засобами мови програмування Python._"
   ]
  },
  {
   "cell_type": "markdown",
   "id": "68f9b831",
   "metadata": {},
   "source": [
    "#### Що ви будете вміти?\n",
    "* Інсталлювати дистрибутив Python Anaconda.\n",
    "* Налаштовувати віртуальне середовище за допомогою системи управління віртуальним середовищем Conda для Windows.\n",
    "* Інсталювати допоміжні бібліотеки.\n",
    "* Створювати у середовищі Jupyter Notebook інтерактивні документи на кшталт того, який ви читаєте в дану хвилину."
   ]
  },
  {
   "cell_type": "markdown",
   "id": "b8cb1260",
   "metadata": {
    "pycharm": {
     "name": "#%% md\n"
    }
   },
   "source": [
    "### Контрольні запитання\n",
    "\n",
    "1. Що таке `pip` і `conda` та чим вони відрізняються між собою?\n",
    "\n",
    "2. Як буде виглядати виконання пунктів 1-3 індивідуального завдання за допомогою `Virtualenv`?\n",
    "\n",
    "3. Сфотографувати себе на телефон та імпортувати свое зображення у форматі .png на початок робочого зошита \n",
    "\n",
    "4. Написати процедуру на `Python` сортування масиву методом бульбашки.\n",
    "\n",
    "5. Як виконати компіляцію вхідного документа `Jupyter Notebook` із його середовища , не використовуючи інтерфейс командного рядка?"
   ]
  },
  {
   "cell_type": "markdown",
   "id": "484c5026",
   "metadata": {
    "pycharm": {
     "name": "#%% md\n"
    }
   },
   "source": [
    "### 1 Що таке `pip`  і `conda` ?\n",
    "pip – це менеджер пакетів, який полегшує встановлення, апдейт та видалення пакетів python. \n",
    "conda – менеджер пакетів для будь-якого програмного забезпечення. \n",
    "Також працюють із віртуальними середовищами."
   ]
  },
  {
   "cell_type": "markdown",
   "id": "e599dd4c",
   "metadata": {
    "pycharm": {
     "name": "#%% md\n"
    }
   },
   "source": [
    "### 2 Так буде виглядати виконання пунктів 1-3 індивідуального завдання за допомогою `Virtualenv`"
   ]
  },
  {
   "cell_type": "markdown",
   "id": "cab1bfce",
   "metadata": {
    "pycharm": {
     "name": "#%% md\n"
    }
   },
   "source": [
    "![Скріншот 1](image/1.png)"
   ]
  },
  {
   "cell_type": "markdown",
   "id": "17648788",
   "metadata": {
    "pycharm": {
     "name": "#%% md\n"
    }
   },
   "source": [
    "![Скріншот 2](image/2.png)"
   ]
  },
  {
   "cell_type": "markdown",
   "id": "c04aeaec",
   "metadata": {
    "pycharm": {
     "name": "#%% md\n"
    }
   },
   "source": [
    "![Скріншот 3](image/3.png)"
   ]
  },
  {
   "cell_type": "markdown",
   "id": "9082e393",
   "metadata": {},
   "source": [
    "### 3 Сфотографувати себе на телефон та імпортувати свое зображення у форматі .png "
   ]
  },
  {
   "cell_type": "markdown",
   "id": "ee26f74a",
   "metadata": {
    "pycharm": {
     "name": "#%% md\n"
    }
   },
   "source": [
    "<img src=\"image/Bearded_Jesse_And_Heisenberg.png\" style=\"width: 400px; height: 520px;\">"
   ]
  },
  {
   "cell_type": "markdown",
   "id": "fd9f3410",
   "metadata": {
    "pycharm": {
     "name": "#%% md\n"
    }
   },
   "source": [
    "### 4 Сортування масиву методом бульбашки"
   ]
  },
  {
   "cell_type": "code",
   "execution_count": 4,
   "id": "023afc27",
   "metadata": {
    "pycharm": {
     "name": "#%%\n"
    }
   },
   "outputs": [],
   "source": [
    "import random"
   ]
  },
  {
   "cell_type": "markdown",
   "id": "adff1435",
   "metadata": {
    "pycharm": {
     "name": "#%% md\n"
    }
   },
   "source": [
    "##### Введіть число яке буде відповідати бажаній кількості елементів у масиві для подальшого сортування:"
   ]
  },
  {
   "cell_type": "code",
   "execution_count": null,
   "id": "73e29079",
   "metadata": {
    "pycharm": {
     "name": "#%%\n"
    }
   },
   "outputs": [],
   "source": [
    "n = int(input())"
   ]
  },
  {
   "cell_type": "code",
   "execution_count": null,
   "id": "db407c52",
   "metadata": {
    "pycharm": {
     "name": "#%%\n"
    }
   },
   "outputs": [],
   "source": [
    "random_list_of_numbers = random.sample(range(1,10000), n) # generating random array\n",
    "k = 0 "
   ]
  },
  {
   "cell_type": "code",
   "execution_count": null,
   "id": "0cfa6c8d",
   "metadata": {
    "pycharm": {
     "name": "#%%\n"
    }
   },
   "outputs": [],
   "source": [
    "# Задаємо вхідні значення\n",
    "a = random_list_of_numbers\n",
    "\n",
    "# Сортуємо методом бульбашки\n",
    "for i in range(n-1):\n",
    "    for j in range(n-1-i):\n",
    "        if a[j] > a[j+1]:\n",
    "            a[j], a[j+1] = a[j+1], a[j]\n",
    " \n",
    "print(\"Чи правильно відсортований масив?\")\n",
    "for h in range(n-1):\n",
    "    if(a[h] <= a[h+1]):\n",
    "        k+=1\n",
    "\n",
    "if(k == n - 1):\n",
    "    print(a[:10])\n",
    "    print(\"Масив відсортовано правильно\")\n",
    "k = 0"
   ]
  },
  {
   "cell_type": "markdown",
   "id": "71945af9",
   "metadata": {
    "pycharm": {
     "name": "#%% md\n"
    }
   },
   "source": [
    "### 3 Аналіз алгоритму сортування масиву методом бульбашки"
   ]
  },
  {
   "cell_type": "code",
   "execution_count": null,
   "id": "05960b0a",
   "metadata": {
    "pycharm": {
     "name": "#%%\n"
    }
   },
   "outputs": [],
   "source": [
    "# Задаємо вхідні значення\n",
    "a = [1,10,9,2,8,3,7,4,6,5] \n",
    "n = len(a) "
   ]
  },
  {
   "cell_type": "code",
   "execution_count": null,
   "id": "1aa9aef1",
   "metadata": {
    "pycharm": {
     "name": "#%%\n"
    },
    "scrolled": true
   },
   "outputs": [],
   "source": [
    "for i in range(n-1):                     #| c1 | n\n",
    "    for j in range(n-i-1):               #| c2 | sum_j=0 > n(t_j)\n",
    "        if a[j] > a[j+1]:                #| c3 | sum_j=0 > n(t_j -1)\n",
    "            a[j], a[j+1] = a[j+1], a[j]  #| c4 | sum_j=0 > n(t_j -1)"
   ]
  },
  {
   "cell_type": "markdown",
   "id": "54019460",
   "metadata": {
    "pycharm": {
     "name": "#%% md\n"
    }
   },
   "source": [
    "$$\n",
    "T(n) = c_{1}n + c_{2}\\sum_{j=0}^{n} t_{j} + c_{3}\\sum_{j=0}^{n} (t_{j}-1) +  c_{4}\\sum_{j=0}^{n} (t_{j}-1)\n",
    "$$\n",
    "\n",
    "$$\n",
    "\\sum_{j=0}^{n} j = \\frac{n^2}{2}\n",
    "$$\n",
    "\n",
    "$$\n",
    "\\sum_{j=0}^{n} j = \\frac{n(n-1)}{2}\n",
    "$$\n",
    "\n",
    "$$\n",
    "T(n) = c_{1}n + c_{2}\\frac{n^2}{2} + c_{3}\\frac{n^2}{2} - c_{3}\\frac{n}{2} + c_{4}\\frac{n^2}{2} - c_{4}\\frac{n}{2}\n",
    "$$\n",
    "\n",
    "$$\n",
    "T(n) = n^2(\\frac{c_{2}}{2} + \\frac{c_{3}}{2} + \\frac{c_{4}}{2}) + n(c_{1} - c_{3} - c_{4}) \n",
    "$$\n"
   ]
  },
  {
   "cell_type": "markdown",
   "id": "ac318d9d",
   "metadata": {
    "pycharm": {
     "name": "#%% md\n"
    }
   },
   "source": [
    "Тепер функція $T(n)$ - квадратична, тобто має вид $T(n) = an^2 + bn + c$. (Константи $a$, $b$ і $c$ визначаються значеннями $c_{1}-c_{4}$.)"
   ]
  },
  {
   "cell_type": "markdown",
   "id": "a34533f9",
   "metadata": {
    "pycharm": {
     "name": "#%% md\n"
    }
   },
   "source": [
    "### 5 Як виконати компіляцію вхідного документа `Jupyter Notebook` із його середовища , не використовуючи інтерфейс командного рядка\n",
    "File > Download as > {file_type}  (Інтерфейс для інвалідів - термінал для пацанів)"
   ]
  },
  {
   "cell_type": "markdown",
   "id": "1ba5c912",
   "metadata": {},
   "source": [
    "1. Anaconda (Python distribution). https://uk.wikipedia.org/wiki/Anaconda_(Python_distribution)\n",
    "2. Conda. https://conda.io/en/latest/"
   ]
  }
 ],
 "metadata": {
  "kernelspec": {
   "display_name": "Python 3 (ipykernel)",
   "language": "python",
   "name": "python3"
  },
  "language_info": {
   "codemirror_mode": {
    "name": "ipython",
    "version": 3
   },
   "file_extension": ".py",
   "mimetype": "text/x-python",
   "name": "python",
   "nbconvert_exporter": "python",
   "pygments_lexer": "ipython3",
   "version": "3.9.13"
  }
 },
 "nbformat": 4,
 "nbformat_minor": 5
}
