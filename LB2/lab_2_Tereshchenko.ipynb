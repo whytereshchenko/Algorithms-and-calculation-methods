{
 "cells": [
  {
   "cell_type": "markdown",
   "id": "2bbb9a14",
   "metadata": {
    "pycharm": {
     "name": "#%% md\n"
    }
   },
   "source": [
    "#### 29.09.22, &copy; [Daniil Tereshchenko](https://www.linkedin.com/in/daniil-tereshchenko/), 2022"
   ]
  },
  {
   "cell_type": "markdown",
   "id": "5d83bc0e",
   "metadata": {
    "pycharm": {
     "name": "#%% md\n"
    }
   },
   "source": [
    "# Лабораторна робота №2. Аналіз складності алгоритмів (short version)"
   ]
  },
  {
   "cell_type": "markdown",
   "id": "78b55dcc",
   "metadata": {
    "pycharm": {
     "name": "#%% md\n"
    }
   },
   "source": [
    "__Мета:__ _Освоїти аналіз складності алгоритмів як технологію на прикладі алгоритмів сортування методами включення та обміну._"
   ]
  },
  {
   "cell_type": "markdown",
   "id": "d316a5ea",
   "metadata": {
    "pycharm": {
     "name": "#%% md\n"
    }
   },
   "source": [
    "#### Що я буду вміти?\n",
    "* Виконувати асимптотичний аналіз складності алгоритмів.\n",
    "* Досліджувати часову складінсть алгоритмів емпіричним шляхом засобами мови Python.\n",
    "* Вибирати оптимальний алгоритм.\n",
    "* Генерувати випадкові послідовності чисел засобами Python\n",
    "* Будувати графіки засобами бібліотеки matplotlib"
   ]
  },
  {
   "cell_type": "markdown",
   "id": "c25b61e2",
   "metadata": {
    "pycharm": {
     "name": "#%% md\n"
    }
   },
   "source": [
    "## Оцінка часу роботи програми на мові Python\n",
    "Відомо, що оцінка асимптотичної складності алгоритму сортування методом включення (див. рис.) (вставки) дорівнює $O(n^2)$\n",
    ", тобто при збільшенні розміру задачі у два рази, час на її виконання збільшується вчетверо.\n",
    "Іноді корисно вміти оцінювати час виконання алгоритму на практиці, особливо у випадку, коли необхідно порівняти різні алгоритми з однаковою аисмптотикою при малих розмірах задачі."
   ]
  },
  {
   "cell_type": "markdown",
   "id": "eb101390",
   "metadata": {
    "pycharm": {
     "name": "#%% md\n"
    }
   },
   "source": [
    "![Сортування методом включення](image/Insertion-sort.gif)"
   ]
  },
  {
   "cell_type": "markdown",
   "id": "95dc8c69",
   "metadata": {
    "pycharm": {
     "name": "#%% md\n"
    }
   },
   "source": [
    "Один з можливих підходів оцінки часу виконання програми, написаної на Python, може бути реалізований за допомогою пакету time.\n",
    "Нижче наведено код процедури на Python, який реалізує алгоритм сортування методом вставки, і дозволяє оцінити час її виконання."
   ]
  },
  {
   "cell_type": "code",
   "execution_count": 135,
   "id": "99a1bac6",
   "metadata": {
    "pycharm": {
     "name": "#%%\n"
    }
   },
   "outputs": [],
   "source": [
    "import time\n",
    "import numpy as np\n",
    "import random\n",
    "import matplotlib.pyplot as plt\n",
    "plt.style.use('ggplot')\n",
    "array = [5,10,50,100,500,1000,2000,3000,4000,5000,10000,20000]\n",
    "#array = [1,2,3,4,5,6,7,8,9,10]"
   ]
  },
  {
   "cell_type": "code",
   "execution_count": 38,
   "id": "b85ada76",
   "metadata": {
    "pycharm": {
     "name": "#%%\n"
    }
   },
   "outputs": [
    {
     "name": "stdout",
     "output_type": "stream",
     "text": [
      "--- 0.0005350112915039062 seconds ---\n"
     ]
    }
   ],
   "source": [
    "start_time2 = time.time()\n",
    "\n",
    "def booble_e(A):\n",
    "    for i in range(len(A)-1):                     #| c1 | n\n",
    "        for j in range(len(A)-i-1):               #| c2 | sum_j=0 > n(t_j)\n",
    "            if A[j] > A[j+1]:                     #| c3 | sum_j=0 > n(t_j -1)\n",
    "                A[j], A[j+1] = A[j+1], A[j]       #| c4 | sum_j=0 > n(t_j -1)\n",
    "                \n",
    "booble_e(array)\n",
    "\n",
    "print(\"--- %s seconds ---\" % (time.time() - start_time2))\n",
    "\n",
    "time2 = (time.time() - start_time2)"
   ]
  },
  {
   "cell_type": "markdown",
   "id": "f3bd7146",
   "metadata": {
    "pycharm": {
     "name": "#%% md\n"
    }
   },
   "source": [
    "$$\n",
    "T(n) = c_{1}n + c_{2}\\sum_{j=0}^{n} t_{j} + c_{3}\\sum_{j=0}^{n} (t_{j}-1) +  c_{4}\\sum_{j=0}^{n} (t_{j}-1)\n",
    "$$\n",
    "\n",
    "$$\n",
    "\\sum_{j=0}^{n} j = \\frac{n^2}{2}\n",
    "$$\n",
    "\n",
    "$$\n",
    "\\sum_{j=0}^{n} j = \\frac{n(n-1)}{2}\n",
    "$$\n",
    "\n",
    "$$\n",
    "T(n) = c_{1}n + c_{2}\\frac{n^2}{2} + c_{3}\\frac{n^2}{2} - c_{3}\\frac{n}{2} + c_{4}\\frac{n^2}{2} - c_{4}\\frac{n}{2}\n",
    "$$\n",
    "\n",
    "$$\n",
    "T(n) = n^2(\\frac{c_{2}}{2} + \\frac{c_{3}}{2} + \\frac{c_{4}}{2}) + n(c_{1} - c_{3} - c_{4}) \n",
    "$$\n"
   ]
  },
  {
   "cell_type": "markdown",
   "id": "cdd10886",
   "metadata": {
    "pycharm": {
     "name": "#%% md\n"
    }
   },
   "source": [
    "Тепер функція $T(n)$ - квадратична, тобто має вид $T(n) = an^2 + bn + c$. (Константи $a$, $b$ і $c$ визначаються значеннями $c_{1}-c_{4}$.)"
   ]
  },
  {
   "cell_type": "code",
   "execution_count": 39,
   "id": "75fd811b",
   "metadata": {
    "pycharm": {
     "name": "#%%\n"
    }
   },
   "outputs": [
    {
     "name": "stdout",
     "output_type": "stream",
     "text": [
      "--- 0.0005266666412353516 seconds ---\n"
     ]
    }
   ],
   "source": [
    "\n",
    "start_time3 = time.time()\n",
    "\n",
    "def insertion_sort_e(A):\n",
    "    for j in range(1, len(A)):                     #| c1 | n\n",
    "        key = A[j]                                 #| c2 | n - 1\n",
    "        i = j - 1                                  #| c3 | n - 1\n",
    "        while i >= 0 and A[i] > key:               #| c4 | sum_j=2 > n(t_j)\n",
    "            A[i + 1] = A[i]                        #| c5 | sum_j=2 > n(t_j-1)\n",
    "            i -= 1                                 #| c6 | sum_j=2 > n(t_j-1)\n",
    "        A[i + 1] = key                             #| c7 | n - 1\n",
    "\n",
    "insertion_sort_e(array)\n",
    "\n",
    "print(\"--- %s seconds ---\" % (time.time() - start_time3))\n",
    "\n",
    "time3 = (time.time() - start_time3)"
   ]
  },
  {
   "cell_type": "markdown",
   "id": "f45469eb",
   "metadata": {
    "pycharm": {
     "name": "#%% md\n"
    }
   },
   "source": [
    "$$\n",
    "T(n) = c_{1}n + c_{2}(n-1) + c_{3}(n-1) + c_{4}\\sum_{j=2}^{n} t_{j} + c_{5}\\sum_{j=2}^{n} (t_{j}-1) + c_{6}\\sum_{j=2}^{n} (t_{j}-1) + c_{7}(n-1)\n",
    "$$\n",
    "Розглянемо найсприятливіші умови для цього алгоритму. При відсортованому масимі всі $t_{j} = 1$ а, отже $t_{j} -1 = 0$\n",
    "$$\n",
    "T(n) = c_{1}n + c_{2}(n-1) + c_{3}(n-1) + c_{4}\\sum_{j=2}^{n} t_{j} + c_{7}(n-1)\n",
    "$$\n",
    "$$\n",
    "\\sum_{j=2}^{n} j = n - 1\n",
    "$$\n",
    "$$\n",
    "T(n) = c_{1}n + c_{2}(n-1) + c_{3}(n-1) + c_{4}(n-1) + c_{7}(n-1)\n",
    "$$\n",
    "$$\n",
    "T(n) = n(c_{1} + c_{2} + c_{3} + c_{4} + c_{7}) - (c_{2} + c_{3} + c_{4} + c_{7})\n",
    "$$"
   ]
  },
  {
   "cell_type": "markdown",
   "id": "440c0bf5",
   "metadata": {
    "pycharm": {
     "name": "#%% md\n"
    }
   },
   "source": [
    "Тепер функція $T(n)$ - лінійна, тобто має вид $T(n) = an + b$. (Константи $a$ і $b$ визначаються значеннями $c_{1}-c_{7}$.)"
   ]
  },
  {
   "cell_type": "markdown",
   "id": "f09556da",
   "metadata": {
    "pycharm": {
     "name": "#%% md\n"
    }
   },
   "source": [
    "### Дослідити реальний час виконання обох алгоритмів на Python і побудувати графіки залежностей"
   ]
  },
  {
   "cell_type": "code",
   "execution_count": 166,
   "id": "8fa7ae67",
   "metadata": {
    "pycharm": {
     "name": "#%%\n"
    }
   },
   "outputs": [],
   "source": [
    "random_lists = []\n",
    "for y in range(0, len(array)):\n",
    "    random_lists.append(random.sample(range(1, 100001), array[y]))\n",
    "    (random_lists[y]).sort(reverse = True)"
   ]
  },
  {
   "cell_type": "code",
   "execution_count": 167,
   "id": "ee239b40",
   "metadata": {
    "pycharm": {
     "name": "#%%\n"
    }
   },
   "outputs": [],
   "source": [
    "def booble(A):\n",
    "    for i in range(len(A)-1):                   \n",
    "        for j in range(len(A)-i-1):              \n",
    "            if A[j] > A[j+1]:                     \n",
    "                A[j], A[j+1] = A[j+1], A[j]       "
   ]
  },
  {
   "cell_type": "code",
   "execution_count": 168,
   "id": "0d1e9234",
   "metadata": {
    "pycharm": {
     "name": "#%%\n"
    }
   },
   "outputs": [],
   "source": [
    "def insertion_sort(A):\n",
    "    for j in range(1, len(A)):\n",
    "        key = A[j]\n",
    "        i = j - 1\n",
    "        while i >= 0 and A[i] > key:\n",
    "            A[i + 1] = A[i]\n",
    "            i -= 1\n",
    "        A[i + 1] = key                        "
   ]
  },
  {
   "cell_type": "code",
   "execution_count": 169,
   "id": "4155fc23",
   "metadata": {
    "pycharm": {
     "name": "#%%\n"
    }
   },
   "outputs": [
    {
     "data": {
      "text/plain": [
       "[2.1457999991980614e-05,\n",
       " 5.037500022808672e-05,\n",
       " 0.001115292000122281,\n",
       " 0.003184916999998677,\n",
       " 0.032574292000390415,\n",
       " 0.09778320899977189,\n",
       " 0.37804066599983344,\n",
       " 0.877354958000069,\n",
       " 1.5525030000003426,\n",
       " 2.3782565409997005,\n",
       " 9.689595333999932,\n",
       " 39.11814341699983]"
      ]
     },
     "execution_count": 169,
     "metadata": {},
     "output_type": "execute_result"
    }
   ],
   "source": [
    "for y in range(0, len(array)):\n",
    "    (random_lists[y]).sort(reverse = True)\n",
    "\n",
    "copy1 = list(random_lists)\n",
    "time_data1 = []\n",
    "for ite in range(0, len(array)):\n",
    "    start_time1 = time.perf_counter()\n",
    "    booble(copy1[ite])\n",
    "    time_data1.append((time.perf_counter() - start_time1))\n",
    "time_data1"
   ]
  },
  {
   "cell_type": "code",
   "execution_count": 170,
   "id": "53648ed5",
   "metadata": {
    "pycharm": {
     "name": "#%%\n"
    }
   },
   "outputs": [
    {
     "data": {
      "text/plain": [
       "[4.291534423828125e-06,\n",
       " 5.9604644775390625e-06,\n",
       " 0.00014090538024902344,\n",
       " 0.0005578994750976562,\n",
       " 0.015537023544311523,\n",
       " 0.06240081787109375,\n",
       " 0.2511889934539795,\n",
       " 0.5699589252471924,\n",
       " 1.0188689231872559,\n",
       " 1.5958478450775146,\n",
       " 6.518068075180054,\n",
       " 26.33964204788208]"
      ]
     },
     "execution_count": 170,
     "metadata": {},
     "output_type": "execute_result"
    }
   ],
   "source": [
    "for y in range(0, len(array)):\n",
    "    (random_lists[y]).sort(reverse = True)\n",
    "    \n",
    "copy2 = list(random_lists)\n",
    "time_data2 = []\n",
    "for ite in range(0, len(array)):\n",
    "    start_time2 = time.time()\n",
    "    insertion_sort(copy2[ite])\n",
    "    time_data2.append((time.time() - start_time2))\n",
    "time_data2"
   ]
  },
  {
   "cell_type": "code",
   "execution_count": 171,
   "id": "46e5a739",
   "metadata": {
    "pycharm": {
     "name": "#%%\n"
    },
    "scrolled": false
   },
   "outputs": [
    {
     "data": {
      "text/plain": [
       "[<matplotlib.lines.Line2D at 0x7fe5c8567910>]"
      ]
     },
     "execution_count": 171,
     "metadata": {},
     "output_type": "execute_result"
    },
    {
     "data": {
      "image/png": "[encoded data removed]",
      "text/plain": [
       "<Figure size 640x480 with 1 Axes>"
      ]
     },
     "metadata": {},
     "output_type": "display_data"
    }
   ],
   "source": [
    "plt.plot(array, time_data1, color='r', label='booble sort')\n",
    "plt.plot(array, time_data2, color='b', label='insertion sort')"
   ]
  },
  {
   "cell_type": "markdown",
   "id": "c20a0195",
   "metadata": {
    "pycharm": {
     "name": "#%% md\n"
    }
   },
   "source": [
    "### Контрольні запитання\n",
    "\n",
    "1. Що таке $O$ - нотація і чим вона відрізняється від $\\Omega$- нотації?\n",
    "    * Якщо алгоритм має складність $O(n)$ то його ефективінсть $\\le n$ і навпаки коли має складність $Omega(n)$ то його ефективність $\\ge n$\n",
    "2. Яку часову складність має алгоритм сортування методом вставки за найсприятливішої умови, коли масив відсортовано? Відповідь обгрунтувати.\n",
    "\n",
    "    * Розглянемо найсприятливіші умови для цього алгоритму. При відсортованому масиві всі $t_{j} = 1$ а, отже $t_{j} -1 = 0$\n",
    "    * Отже алгоритм має складніть $O(n)$, доведення чому:\n",
    "$$\n",
    "T(n) = c_{1}n + c_{2}(n-1) + c_{3}(n-1) + c_{4}\\sum_{j=2}^{n} t_{j} + c_{7}(n-1)\n",
    "$$\n",
    "$$\n",
    "\\sum_{j=2}^{n} j = n - 1\n",
    "$$\n",
    "$$\n",
    "T(n) = c_{1}n + c_{2}(n-1) + c_{3}(n-1) + c_{4}(n-1) + c_{7}(n-1)\n",
    "$$\n",
    "$$\n",
    "T(n) = n(c_{1} + c_{2} + c_{3} + c_{4} + c_{7}) - (c_{2} + c_{3} + c_{4} + c_{7})\n",
    "$$\n",
    "3. Дати визначення ефективного алогоритму.\n",
    "    * Ефективний алгоритм - це, за умови того, що ми приймаємо фактор швидкості обчислень як умову ефективності, алгоритм який працює за час меньший, ніж його аналог. Або ж має складність $O(1)$. Ефективним алгоритмом у виборі між $O(n^2)$ та $O(logn)$ буде алгоритм зі складністю $O(logn)$\n",
    "4. Пояснити поняття головного параметра (розміру) задачі.\n",
    "    * Головний параметр задачі - змінна яка вказує на кількість елементів або обʼєктів. наприклад booble_srt(N) де N це масив який треба відсортувати.\n",
    "5. Функція часової складності має вигляд $F(N) = N^3 + 7N^2 - 14N$. Як записати асимптотичну складність в нотації $O()$?\n",
    "    * $O(n^2)$\n"
   ]
  },
  {
   "cell_type": "markdown",
   "id": "07fe79ef",
   "metadata": {
    "pycharm": {
     "name": "#%% md\n"
    }
   },
   "source": [
    "# References"
   ]
  },
  {
   "cell_type": "markdown",
   "id": "f82e1c7a",
   "metadata": {
    "pycharm": {
     "name": "#%% md\n"
    }
   },
   "source": [
    "1. Anaconda (Python distribution). https://uk.wikipedia.org/wiki/Anaconda_(Python_distribution)\n",
    "2. Conda. https://conda.io/en/latest/"
   ]
  }
 ],
 "metadata": {
  "kernelspec": {
   "display_name": "Python 3 (ipykernel)",
   "language": "python",
   "name": "python3"
  },
  "language_info": {
   "codemirror_mode": {
    "name": "ipython",
    "version": 3
   },
   "file_extension": ".py",
   "mimetype": "text/x-python",
   "name": "python",
   "nbconvert_exporter": "python",
   "pygments_lexer": "ipython3",
   "version": "3.9.13"
  }
 },
 "nbformat": 4,
 "nbformat_minor": 5
}
