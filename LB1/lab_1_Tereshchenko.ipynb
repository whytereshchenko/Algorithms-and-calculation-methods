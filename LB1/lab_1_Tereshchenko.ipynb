{
 "cells": [
  {
   "cell_type": "markdown",
   "id": "0cfec002",
   "metadata": {},
   "source": [
    "#### 29.09.22, &copy; [Daniil Tereshchenko](https://www.linkedin.com/in/daniil-tereshchenko/), 2022"
   ]
  },
  {
   "cell_type": "markdown",
   "id": "e858b396",
   "metadata": {},
   "source": [
    "# Лабораторна робота №1. Робота в середовищі Anaconda"
   ]
  },
  {
   "cell_type": "markdown",
   "id": "ee26f74a",
   "metadata": {},
   "source": [
    "<img src=\"image/Bearded_Jesse_And_Heisenberg.png\" style=\"width: 400px; height: 520px;\">"
   ]
  },
  {
   "cell_type": "markdown",
   "id": "b8cb1260",
   "metadata": {},
   "source": [
    "### Контрольні запитання\n",
    "\n",
    "1. Що таке `pip` і `conda` та чим вони відрізняються між собою?\n",
    "\n",
    "2. Як буде виглядати виконання пунктів 1-3 індивідуального завдання за допомогою `Virtualenv`?\n",
    "\n",
    "3. Сфотографувати себе на телефон та імпортувати свое зображення у форматі .png на початок робочого зошита \n",
    "\n",
    "4. Написати процедуру на `Python` сортування масиву методом бульбашки.\n",
    "\n",
    "5. Як виконати компіляцію вхідного документа `Jupyter Notebook` із його середовища , не використовуючи інтерфейс командного рядка?"
   ]
  },
  {
   "cell_type": "markdown",
   "id": "484c5026",
   "metadata": {},
   "source": [
    "### Що таке `pip`  і `conda` ?\n",
    "pip – це менеджер пакетів, який полегшує встановлення, апдейт та видалення пакетів python. \n",
    "conda – менеджер пакетів для будь-якого програмного забезпечення. \n",
    "Також працюють із віртуальними середовищами."
   ]
  },
  {
   "cell_type": "markdown",
   "id": "e599dd4c",
   "metadata": {},
   "source": [
    "### Так буде виглядати виконання пунктів 1-3 індивідуального завдання за допомогою `Virtualenv`"
   ]
  },
  {
   "cell_type": "markdown",
   "id": "cab1bfce",
   "metadata": {},
   "source": [
    "![Скріншот 1](image/1.png)"
   ]
  },
  {
   "cell_type": "markdown",
   "id": "17648788",
   "metadata": {},
   "source": [
    "![Скріншот 2](image/2.png)"
   ]
  },
  {
   "cell_type": "markdown",
   "id": "c04aeaec",
   "metadata": {},
   "source": [
    "![Скріншот 3](image/3.png)"
   ]
  },
  {
   "cell_type": "markdown",
   "id": "fd9f3410",
   "metadata": {},
   "source": [
    "### Сортування масиву методом бульбашки"
   ]
  },
  {
   "cell_type": "code",
   "execution_count": 14,
   "id": "023afc27",
   "metadata": {},
   "outputs": [],
   "source": [
    "import random"
   ]
  },
  {
   "cell_type": "markdown",
   "id": "adff1435",
   "metadata": {},
   "source": [
    "### Введіть число яке буде відповідати бажаній кількості елементів у масиві для подальшого сортування:"
   ]
  },
  {
   "cell_type": "code",
   "execution_count": 31,
   "id": "73e29079",
   "metadata": {},
   "outputs": [
    {
     "name": "stdout",
     "output_type": "stream",
     "text": [
      "100\n"
     ]
    }
   ],
   "source": [
    "n = int(input())"
   ]
  },
  {
   "cell_type": "code",
   "execution_count": 48,
   "id": "db407c52",
   "metadata": {},
   "outputs": [],
   "source": [
    "random_list_of_numbers = random.sample(range(1,10000), n) # generating random array\n",
    "k = 0 "
   ]
  },
  {
   "cell_type": "code",
   "execution_count": 61,
   "id": "0cfa6c8d",
   "metadata": {},
   "outputs": [
    {
     "name": "stdout",
     "output_type": "stream",
     "text": [
      "Чи правильно відсортований масив?\n",
      "[203, 248, 299, 312, 388, 396, 470, 480, 508, 657, 693, 852, 868, 934, 1004, 1055, 1229, 1458, 1513, 1599, 1605, 1754, 1857, 1879, 1885, 1969, 1988, 2338, 2378, 2420, 2433, 2508, 2565, 2872, 3017, 3063, 3218, 3265, 3347, 3396, 3400, 3465, 3510, 3627, 3712, 3728, 3967, 4035, 4122, 4175, 4223, 4230, 4501, 4663, 4705, 5290, 5299, 5311, 5384, 5387, 5750, 5805, 5882, 5938, 5951, 5972, 6068, 6235, 6310, 6331, 6390, 6410, 6517, 6751, 6855, 6890, 6933, 7169, 7227, 7400, 7565, 7710, 7806, 8110, 8171, 8260, 8333, 8548, 8662, 8683, 8898, 9012, 9387, 9516, 9518, 9599, 9614, 9615, 9718, 9902]\n",
      "Масив відсортовано правильно\n"
     ]
    }
   ],
   "source": [
    "# Задаємо вхідні значення\n",
    "a = random_list_of_numbers\n",
    "\n",
    "# Сортуємо методом бульбашки\n",
    "for i in range(n-1):\n",
    "    for j in range(n-1-i):\n",
    "        if a[j] > a[j+1]:\n",
    "            a[j], a[j+1] = a[j+1], a[j]\n",
    " \n",
    "print(\"Чи правильно відсортований масив?\")\n",
    "for h in range(n-1):\n",
    "    if(a[h] <= a[h+1]):\n",
    "        k+=1\n",
    "\n",
    "if(k == n - 1):\n",
    "    print(a)\n",
    "    print(\"Масив відсортовано правильно\")\n",
    "k = 0"
   ]
  },
  {
   "cell_type": "markdown",
   "id": "71945af9",
   "metadata": {},
   "source": [
    "### Аналіз алгоритму сортування масиву методом бульбашки"
   ]
  },
  {
   "cell_type": "code",
   "execution_count": 8,
   "id": "05960b0a",
   "metadata": {},
   "outputs": [],
   "source": [
    "# Задаємо вхідні значення\n",
    "a = [1,10,9,2,8,3,7,4,6,5] \n",
    "n = len(a) "
   ]
  },
  {
   "cell_type": "code",
   "execution_count": null,
   "id": "1aa9aef1",
   "metadata": {
    "scrolled": true
   },
   "outputs": [],
   "source": [
    "for i in range(n-1):                     #| c1 | n\n",
    "    for j in range(n-i-1):               #| c2 | sum_j=0 > n(t_j)\n",
    "        if a[j] > a[j+1]:                #| c3 | sum_j=0 > n(t_j -1)\n",
    "            a[j], a[j+1] = a[j+1], a[j]  #| c4 | sum_j=0 > n(t_j -1)"
   ]
  },
  {
   "cell_type": "markdown",
   "id": "54019460",
   "metadata": {},
   "source": [
    "$$\n",
    "T(n) = c_{1}n + c_{2}\\sum_{j=0}^{n} t_{j} + c_{3}\\sum_{j=0}^{n} (t_{j}-1) +  c_{4}\\sum_{j=0}^{n} (t_{j}-1)\n",
    "$$\n",
    "\n",
    "$$\n",
    "\\sum_{j=0}^{n} j = \\frac{n^2}{2}\n",
    "$$\n",
    "\n",
    "$$\n",
    "\\sum_{j=0}^{n} j = \\frac{n(n-1)}{2}\n",
    "$$\n",
    "\n",
    "$$\n",
    "T(n) = c_{1}n + c_{2}\\frac{n^2}{2} + c_{3}\\frac{n^2}{2} - c_{3}\\frac{n}{2} + c_{4}\\frac{n^2}{2} - c_{4}\\frac{n}{2}\n",
    "$$\n",
    "\n",
    "$$\n",
    "T(n) = n^2(\\frac{c_{2}}{2} + \\frac{c_{3}}{2} + \\frac{c_{4}}{2}) + n(c_{1} - c_{3} - c_{4}) \n",
    "$$\n"
   ]
  },
  {
   "cell_type": "markdown",
   "id": "ac318d9d",
   "metadata": {},
   "source": [
    "Тепер функція $T(n)$ - квадратична, тобто має вид $T(n) = an^2 + bn + c$. (Константи $a$, $b$ і $c$ визначаються значеннями $c_{1}-c_{4}$.)"
   ]
  },
  {
   "cell_type": "markdown",
   "id": "a34533f9",
   "metadata": {},
   "source": [
    "### Як виконати компіляцію вхідного документа `Jupyter Notebook` із його середовища , не використовуючи інтерфейс командного рядка\n",
    "File > Download as > {file_type}  (Інтерфейс для інвалідів - термінал для пацанів)"
   ]
  }
 ],
 "metadata": {
  "kernelspec": {
   "display_name": "Python 3 (ipykernel)",
   "language": "python",
   "name": "python3"
  },
  "language_info": {
   "codemirror_mode": {
    "name": "ipython",
    "version": 3
   },
   "file_extension": ".py",
   "mimetype": "text/x-python",
   "name": "python",
   "nbconvert_exporter": "python",
   "pygments_lexer": "ipython3",
   "version": "3.9.12"
  }
 },
 "nbformat": 4,
 "nbformat_minor": 5
}
